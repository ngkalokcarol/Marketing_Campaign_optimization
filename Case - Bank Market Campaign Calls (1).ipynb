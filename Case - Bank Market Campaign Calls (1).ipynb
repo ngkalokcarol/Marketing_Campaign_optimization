{
 "cells": [
  {
   "cell_type": "markdown",
   "id": "66a8da83",
   "metadata": {},
   "source": [
    "### Detail task description\n",
    "\n",
    "Find the best strategies to improve for the next marketing campaign. How can the financial institution have a greater effectiveness for future marketing campaigns? In order to answer this, we have to analyze the last marketing campaign the bank performed and identify the patterns that will help us find conclusions in order to develop future strategies."
   ]
  },
  {
   "cell_type": "markdown",
   "id": "d643354f",
   "metadata": {},
   "source": [
    "### Loading Required Libraries"
   ]
  },
  {
   "cell_type": "code",
   "execution_count": 2,
   "id": "3540515b",
   "metadata": {},
   "outputs": [],
   "source": [
    "import numpy as np # For data manipulation\n",
    "import pandas as pd # For handling dataframes\n",
    "import matplotlib.pyplot as plt # For plotting\n",
    "import seaborn as sns # For plotting\n",
    "from sklearn.metrics import f1_score # Model Evaluation\n",
    "from sklearn import tree # Decision Tree\n",
    "from sklearn.model_selection import cross_val_score, train_test_split # Cross Validation and Splitting Test/Tra\n",
    "from sklearn import neighbors # K Nearrest Neighbors'\n",
    "from sklearn.preprocessing import MinMaxScaler # Normalization Min-Max\n",
    "from sklearn.preprocessing import StandardScaler # Normalization Min-Max\n",
    "from sklearn.linear_model import LogisticRegression # Logistic Regression\n",
    "from sklearn.metrics import classification_report # Model Evaluation\n",
    "from sklearn.model_selection import GridSearchCV # Parameter Tuning\n",
    "from sklearn.svm import SVR # SVM Regression\n",
    "from sklearn.model_selection import KFold # For Cross Validation\n",
    "from sklearn.pipeline import Pipeline\n",
    "import warnings\n",
    "warnings.filterwarnings('ignore')\n",
    "from sklearn.linear_model import ElasticNet # Regression with Regularization - ElasticNet\n",
    "from sklearn.neural_network import MLPRegressor # Neueral Networks\n",
    "import xgboost # Ensemble Method - XGBoost\n",
    "from xgboost import XGBRegressor\n",
    "from sklearn.metrics import mean_squared_error # For evaluating regression\n",
    "from sklearn.neighbors import KNeighborsClassifier"
   ]
  },
  {
   "cell_type": "markdown",
   "id": "2c96101d",
   "metadata": {},
   "source": [
    "## Outline:\n",
    "\n",
    "## 1. Data Description\n",
    " <b> 1.1 Data attributes <br></b>\n",
    "\n",
    "## 2. Data cleaning\n",
    "\n",
    "<b>2.1 Handle missing values <br></b>\n",
    "<b>2.2 Numeric and categorical <br></b>\n",
    "<b>2.3 Descriptive Data Analysis for numeric variables <br><br></b>\n",
    "\n",
    "## 3. Exploratory Data Analysis\n",
    "\n",
    "<b>3.1 Exploring the variables distribution <br></b>\n",
    "3.1.1 Target Variable class balance <br>\n",
    "3.1.2 Numeric variables distribution <br> \n",
    "3.1.3 Numeric variables correlation matrix <br>\n",
    "<b>3.2 Conversion rate to buy Term Deposit <br></b>\n",
    "  3.2.1 Duration <br>\n",
    "  3.2.2 Age Group <br>\n",
    "  3.2.3 Account balance <br>\n",
    "  3.2.4 Job categories <br>\n",
    "  3.2.5 Housing Loan <br>\n",
    "  3.2.6 Month <br><br>\n",
    "\n",
    "## 4. Classification model\n",
    "\n",
    "<b> 4.1 Train and test data split <br></b>\n",
    "4.1.1 Splitting Target Variable and Predictors<br>\n",
    "<b>4.2 Modelling <br></b>\n",
    "  4.2.1 Decision Tree <br>\n",
    "  4.2.2 K Nearest Neighbors (KNN) <br>\n",
    "  4.2.3 Logistic Regression <br>\n",
    "  4.2.4 SVC <br>\n",
    "  4.2.5 XGBoost <br>\n",
    "<b>4.3 Nested Cross Validation <br></b>\n",
    "4.3.1 Comparing Model Performance to Select Best Model<br>\n",
    "<b>4.4 Model evaluation <br></b>\n",
    "4.4.1 Confusion Matrix <br>\n",
    "4.4.2 Classification Report for best model<br>\n",
    "4.4.3 ROC Curve <br>\n",
    "4.4.4 Feature Importance\n",
    "\n",
    "## 5. Recommendations\n",
    "\n",
    "<b>5.1 Recommendation for marketing strategies <br></b>"
   ]
  },
  {
   "cell_type": "markdown",
   "id": "7b3f6ed7",
   "metadata": {},
   "source": [
    "# 1. Data Description"
   ]
  },
  {
   "cell_type": "markdown",
   "id": "c6a17c86",
   "metadata": {},
   "source": [
    "### 1.1 Dataset attributes\n",
    "\n",
    "The dataset is about marketing capaign data of a Portuguese Bank after conducting phone calls with various customers on pitching a term deposit product (ie. CD).\n"
   ]
  },
  {
   "cell_type": "markdown",
   "id": "283bbe44",
   "metadata": {},
   "source": [
    "#### Loading the Data"
   ]
  },
  {
   "cell_type": "code",
   "execution_count": 31,
   "id": "c0aecb38",
   "metadata": {},
   "outputs": [],
   "source": [
    "# Reading the data into DataFrame and remove double quotes\n",
    "\n",
    "df = pd.read_csv(\"Marketing Campaign Data.csv\", sep= '\";\"', encoding=\"utf-8\", header = 0, index_col=False, names = [\"age\",\"job\",\"marital\",\"education\",\"default\",\"balance\",\"housing\",\"loan\",\"contact\",\"day\",\"month\",\"duration\",\"campaign\",\"pdays\",\"previous\",\"poutcome\",\"y\"])\n",
    "df = df.apply(lambda s:s.str.replace('\"', \"\"))"
   ]
  },
  {
   "cell_type": "code",
   "execution_count": 32,
   "id": "99b1aecd",
   "metadata": {},
   "outputs": [
    {
     "data": {
      "text/plain": [
       "(42600, 17)"
      ]
     },
     "execution_count": 32,
     "metadata": {},
     "output_type": "execute_result"
    }
   ],
   "source": [
    "# View the data size\n",
    "\n",
    "df.shape"
   ]
  },
  {
   "cell_type": "code",
   "execution_count": 33,
   "id": "5a68e366",
   "metadata": {},
   "outputs": [
    {
     "data": {
      "text/html": [
       "<div>\n",
       "<style scoped>\n",
       "    .dataframe tbody tr th:only-of-type {\n",
       "        vertical-align: middle;\n",
       "    }\n",
       "\n",
       "    .dataframe tbody tr th {\n",
       "        vertical-align: top;\n",
       "    }\n",
       "\n",
       "    .dataframe thead th {\n",
       "        text-align: right;\n",
       "    }\n",
       "</style>\n",
       "<table border=\"1\" class=\"dataframe\">\n",
       "  <thead>\n",
       "    <tr style=\"text-align: right;\">\n",
       "      <th></th>\n",
       "      <th>age</th>\n",
       "      <th>job</th>\n",
       "      <th>marital</th>\n",
       "      <th>education</th>\n",
       "      <th>default</th>\n",
       "      <th>balance</th>\n",
       "      <th>housing</th>\n",
       "      <th>loan</th>\n",
       "      <th>contact</th>\n",
       "      <th>day</th>\n",
       "      <th>month</th>\n",
       "      <th>duration</th>\n",
       "      <th>campaign</th>\n",
       "      <th>pdays</th>\n",
       "      <th>previous</th>\n",
       "      <th>poutcome</th>\n",
       "      <th>y</th>\n",
       "    </tr>\n",
       "  </thead>\n",
       "  <tbody>\n",
       "    <tr>\n",
       "      <th>0</th>\n",
       "      <td>36</td>\n",
       "      <td>management</td>\n",
       "      <td>married</td>\n",
       "      <td>tertiary</td>\n",
       "      <td>no</td>\n",
       "      <td>101</td>\n",
       "      <td>yes</td>\n",
       "      <td>yes</td>\n",
       "      <td>unknown</td>\n",
       "      <td>5</td>\n",
       "      <td>may</td>\n",
       "      <td>426</td>\n",
       "      <td>1</td>\n",
       "      <td>-1</td>\n",
       "      <td>0</td>\n",
       "      <td>unknown</td>\n",
       "      <td>no</td>\n",
       "    </tr>\n",
       "    <tr>\n",
       "      <th>1</th>\n",
       "      <td>57</td>\n",
       "      <td>technician</td>\n",
       "      <td>married</td>\n",
       "      <td>unknown</td>\n",
       "      <td>no</td>\n",
       "      <td>206</td>\n",
       "      <td>yes</td>\n",
       "      <td>no</td>\n",
       "      <td>unknown</td>\n",
       "      <td>5</td>\n",
       "      <td>may</td>\n",
       "      <td>216</td>\n",
       "      <td>3</td>\n",
       "      <td>-1</td>\n",
       "      <td>0</td>\n",
       "      <td>unknown</td>\n",
       "      <td>no</td>\n",
       "    </tr>\n",
       "    <tr>\n",
       "      <th>2</th>\n",
       "      <td>54</td>\n",
       "      <td>services</td>\n",
       "      <td>married</td>\n",
       "      <td>secondary</td>\n",
       "      <td>yes</td>\n",
       "      <td>0</td>\n",
       "      <td>yes</td>\n",
       "      <td>no</td>\n",
       "      <td>unknown</td>\n",
       "      <td>6</td>\n",
       "      <td>may</td>\n",
       "      <td>138</td>\n",
       "      <td>3</td>\n",
       "      <td>-1</td>\n",
       "      <td>0</td>\n",
       "      <td>unknown</td>\n",
       "      <td>no</td>\n",
       "    </tr>\n",
       "    <tr>\n",
       "      <th>3</th>\n",
       "      <td>51</td>\n",
       "      <td>blue-collar</td>\n",
       "      <td>married</td>\n",
       "      <td>secondary</td>\n",
       "      <td>no</td>\n",
       "      <td>50</td>\n",
       "      <td>yes</td>\n",
       "      <td>yes</td>\n",
       "      <td>unknown</td>\n",
       "      <td>6</td>\n",
       "      <td>may</td>\n",
       "      <td>121</td>\n",
       "      <td>1</td>\n",
       "      <td>-1</td>\n",
       "      <td>0</td>\n",
       "      <td>unknown</td>\n",
       "      <td>no</td>\n",
       "    </tr>\n",
       "    <tr>\n",
       "      <th>4</th>\n",
       "      <td>49</td>\n",
       "      <td>technician</td>\n",
       "      <td>married</td>\n",
       "      <td>unknown</td>\n",
       "      <td>no</td>\n",
       "      <td>15</td>\n",
       "      <td>no</td>\n",
       "      <td>no</td>\n",
       "      <td>unknown</td>\n",
       "      <td>6</td>\n",
       "      <td>may</td>\n",
       "      <td>92</td>\n",
       "      <td>2</td>\n",
       "      <td>-1</td>\n",
       "      <td>0</td>\n",
       "      <td>unknown</td>\n",
       "      <td>no</td>\n",
       "    </tr>\n",
       "  </tbody>\n",
       "</table>\n",
       "</div>"
      ],
      "text/plain": [
       "  age          job  marital  education default balance housing loan  contact  \\\n",
       "0  36   management  married   tertiary      no     101     yes  yes  unknown   \n",
       "1  57   technician  married    unknown      no     206     yes   no  unknown   \n",
       "2  54     services  married  secondary     yes       0     yes   no  unknown   \n",
       "3  51  blue-collar  married  secondary      no      50     yes  yes  unknown   \n",
       "4  49   technician  married    unknown      no      15      no   no  unknown   \n",
       "\n",
       "  day month duration campaign pdays previous poutcome   y  \n",
       "0   5   may      426        1    -1        0  unknown  no  \n",
       "1   5   may      216        3    -1        0  unknown  no  \n",
       "2   6   may      138        3    -1        0  unknown  no  \n",
       "3   6   may      121        1    -1        0  unknown  no  \n",
       "4   6   may       92        2    -1        0  unknown  no  "
      ]
     },
     "execution_count": 33,
     "metadata": {},
     "output_type": "execute_result"
    }
   ],
   "source": [
    "df.head()"
   ]
  },
  {
   "cell_type": "markdown",
   "id": "53253156",
   "metadata": {},
   "source": [
    "# 2. Data cleaning"
   ]
  },
  {
   "cell_type": "markdown",
   "id": "e27ed76e",
   "metadata": {},
   "source": [
    "#### Understanding the categorical values and check NULL values"
   ]
  },
  {
   "cell_type": "code",
   "execution_count": 34,
   "id": "89589b40",
   "metadata": {},
   "outputs": [
    {
     "name": "stdout",
     "output_type": "stream",
     "text": [
      "age:\n",
      " ['36' '57' '54' '51' '49' '39' '35' '42' '40' '44' '43' '27' '29' '55'\n",
      " '46' '41' '37' '31' '30' '47' '28' '32' '38' '26' '25' '53' '60' '34'\n",
      " '45' '50' '33' '58' '22' '21' '24' '48' '56' '52' '59' '66' '62' '67'\n",
      " '63' '64' '82' '73' '95' '77' '19' '76' '72' '74' '84' '23' '65' '70'\n",
      " '61' '75' '79' '83' '71' 'NULL' '78' '18' '68' '20' '80' '81' '85' '69'\n",
      " '86' '94' '93' '89' '88' '90']\n",
      "job:\n",
      " ['management' 'technician' 'services' 'blue-collar' 'admin.' 'unemployed'\n",
      " 'self-employed' 'retired' 'entrepreneur' 'student' 'housemaid' 'unknown'\n",
      " 'NULL']\n",
      "marital\n",
      " ['married' 'single' 'divorced' 'NULL']\n",
      "education\n",
      " ['tertiary' 'unknown' 'secondary' 'primary' 'NULL']\n",
      "default\n",
      " ['no' 'yes']\n",
      "balance\n",
      " ['101' '206' '0' ... '8402' '4196' '17332']\n",
      "housing\n",
      " ['yes' 'no']\n",
      "loan\n",
      " ['yes' 'no' 'NULL']\n",
      "contact\n",
      " ['unknown' 'cellular' 'telephone']\n",
      "day\n",
      " ['5' '6' '7' '8' '9' '12' '13' '14' '15' '16' '19' '20' '21' '23' '26'\n",
      " '27' '28' '29' '30' '2' '3' '4' '11' '17' '18' '24' '1' '10' '22' '25'\n",
      " '31']\n",
      "month\n",
      " ['may' 'jun' 'jul' 'aug' 'oct' 'nov' 'jan' 'feb' 'mar' 'apr' 'sep' 'dec']\n",
      "duration\n",
      " ['426' '216' '138' ... '2462' '987' '1569']\n",
      "campaign\n",
      " ['1' '3' '2' '7' '4' '5' '11' '8' '6' '10' '13' '15' '16' '18' '31' '24'\n",
      " '43' '9' '35' '33' '25' '23' '17' '12' '21' '22' '19' '14' '30' '20' '29'\n",
      " '32' '27' '36' '50' '26' '28' '41' '34' '37' '58' '63' '38' '39' '44'\n",
      " '55' '51' '46']\n",
      "pdays\n",
      " ['-1' '147' '186' '110' '189' '113' '112' '178' '184' '127' '154' '183'\n",
      " '171' '245' '182' '266' '255' '244' '270' '273' '272' '231' '275' '212'\n",
      " '85' '106' '49' '135' '225' '253' '261' '321' '323' '341' '149' '267'\n",
      " '324' '319' '346' '308' '335' '342' '84' '87' '263' '360' '358' '336'\n",
      " '168' '363' '297' '356' '368' '371' '264' '286' '362' '298' '309' '352'\n",
      " '370' '365' '344' '340' '277' '353' '355' '180' '105' '81' '134' '389'\n",
      " '385' '190' '104' '88' '93' '120' '82' '204' '196' '199' '92' '90' '185'\n",
      " '86' '181' '478' '188' '364' '89' '414' '159' '233' '59' '197' '111' '94'\n",
      " '173' '172' '124' '117' '174' '155' '91' '71' '176' '247' '259' '2' '6'\n",
      " '271' '8' '177' '210' '331' '265' '140' '146' '318' '315' '160' '80'\n",
      " '343' '250' '345' '366' '170' '252' '350' '351' '175' '287' '367' '306'\n",
      " '299' '145' '137' '169' '156' '251' '256' '74' '338' '150' '329' '13'\n",
      " '83' '167' '357' '276' '347' '69' '101' '96' '462' '191' '561' '553'\n",
      " '179' '78' '339' '136' '118' '131' '246' '227' '242' '9' '192' '103'\n",
      " '313' '300' '301' '359' '332' '369' '348' '98' '133' '12' '234' '305'\n",
      " '322' '320' '294' '337' '79' '95' '28' '129' '291' '195' '116' '281'\n",
      " '327' '303' '34' '152' '330' '229' '224' '317' '240' '349' '97' '148'\n",
      " '284' '187' '100' '205' '258' '206' '161' '221' '60' '141' '153' '260'\n",
      " '354' '29' '99' '70' '68' '158' '157' '76' '201' '208' '268' '269' '254'\n",
      " '35' '334' '292' '151' '279' '213' '562' '122' '193' '314' '328' '310'\n",
      " '123' '119' '223' '257' '102' '238' '215' '121' '1' '235' '198' '220'\n",
      " '200' '508' '5' '307' '361' '20' '248' '278' '524' '285' '532' '130'\n",
      " '412' '326' '39' '226' '108' '311' '312' '214' '289' '62' '164' '209'\n",
      " '282' '217' '228' '262' '211' '302' '66' '372' '378' '393' '459' '828'\n",
      " '304' '760' '530' '109' '216' '325' '374' '126' '230' '202' '132' '139'\n",
      " '421' '237' '22' '14' '194' '274' '296' '115' '40' '463' '58' '775' '166'\n",
      " '75' '232' '222' '128' '138' '143' '449' '295' '21' '771' '288' '55' '57'\n",
      " '589' '163' '333' '165' '203' '114' '43' '293' '64' '701' '24' '125'\n",
      " '249' '17' '626' '77' '442' '470' '241' '316' '50' '107' '520' '778'\n",
      " '444' '290' '162' '67' '51' '243' '491' '236' '27' '7' '72' '48' '376'\n",
      " '686' '784' '850' '280' '239' '377' '399' '219' '543' '427' '44' '670'\n",
      " '518' '63' '142' '391' '10' '728' '31' '19' '776' '430' '15' '426' '585'\n",
      " '283' '65' '555' '390' '424' '409' '469' '395' '207' '373' '687' '383'\n",
      " '779' '144' '557' '381' '401' '457' '690' '492' '42' '4' '460' '41' '392'\n",
      " '521' '432' '380' '386' '433' '490' '792' '26' '384' '440' '47' '397'\n",
      " '36' '616' '420' '461' '46' '531' '749' '435' '592' '475' '56' '73' '38'\n",
      " '535' '388' '410' '486' '25' '3' '515' '674' '504' '434' '415' '842' '61'\n",
      " '477' '500' '452' '547' '37' '405' '425' '436' '446' '656' '651' '474'\n",
      " '439' '379' '489' '586' '648' '30' '464' '375' '774' '455' '419' '404'\n",
      " '32' '465']\n",
      "previous\n",
      " ['0' '2' '3' '6' '4' '1' '5' '24' '8' '9' '7' '10' '12' '11' '38' '22'\n",
      " '30' '19' '23' '32' '14' '40' '13' '16' '29' '27' '17' '20' '51' '15'\n",
      " '25' '18' '41' '37' '55' '58' '26' '21' '35' '28' '275']\n",
      "poutcome\n",
      " ['unknown' 'success' 'failure' 'other']\n",
      "y\n",
      " ['no' 'yes']\n"
     ]
    }
   ],
   "source": [
    "print(\"age:\\n\" ,df[\"age\"].unique())\n",
    "print(\"job:\\n\" ,df[\"job\"].unique())\n",
    "print(\"marital\\n\",df[\"marital\"].unique())\n",
    "print(\"education\\n\",df[\"education\"].unique())\n",
    "print(\"default\\n\",df[\"default\"].unique())\n",
    "print(\"balance\\n\",df[\"balance\"].unique())\n",
    "print(\"housing\\n\",df[\"housing\"].unique())\n",
    "print(\"loan\\n\",df[\"loan\"].unique())\n",
    "print(\"contact\\n\",df[\"contact\"].unique())\n",
    "print(\"day\\n\",df[\"day\"].unique())\n",
    "print(\"month\\n\",df[\"month\"].unique())\n",
    "print(\"duration\\n\",df[\"duration\"].unique())\n",
    "print(\"campaign\\n\",df[\"campaign\"].unique())\n",
    "print(\"pdays\\n\",df[\"pdays\"].unique())\n",
    "print(\"previous\\n\",df[\"previous\"].unique())\n",
    "print(\"poutcome\\n\",df[\"poutcome\"].unique())\n",
    "print(\"y\\n\",df[\"y\"].unique())"
   ]
  },
  {
   "cell_type": "markdown",
   "id": "7a639110",
   "metadata": {},
   "source": [
    "There are 42,600 observations in this dataset. Each represents an existing client the bank called by phone to sell the term deposit. \n",
    "\n",
    "#### Customer bank data:\n",
    "1. <b>age</b>: (numeric) <br>\n",
    "2. <b>job</b>: (categorical) - management, technician, services, blue-collar, admin, unemployed, self-employed, retired, entrepreneur, student, housemaid, unknown, NULL<br>\n",
    "3. <b>marital</b>: (categorical) - married, single, divorced, NULL<br>\n",
    "4. <b>education</b>: (categorical) - tertiary, unknown, secondary, primary, NULL<br>\n",
    "5. <b>default</b>: Any credit in default? (cateogrical) - yes, no <br>\n",
    "6. <b>balance</b>: Bank account balance (numeric) <br>\n",
    "7. <b>housing</b>: Any housing loan? (categorical) - yes, no <br>\n",
    "8. <b>loan</b>: Any personal loan? (categorical) - yes, no, NULL <br>\n",
    "\n",
    "#### Last contact of market campaign:\n",
    "9. <b>contact</b>: Communication type (categorical) - cellular, telephone, unknown<br>\n",
    "10. <b>day</b>: Contact day (numeric) - 1 to 31 <br>\n",
    "11. <b>month</b>: Contact month (categorical) -  jan, feb, mar, apr, may, jun, jul, aug, sep, oct, nov, dec<br>\n",
    "12. <b>duration</b>: Contact duration in seconds (numeric) <br>\n",
    "\n",
    "#### Other attributes:\n",
    "13. <b>campaign</b>: # of contacts performed (numeric) <br>\n",
    "14. <b>pdays</b>: # of days contacted from previous campaign call (numeric) <br>\n",
    "15. <b>previous</b>: # of contacts performed before this campaign and for this client (numeric) <br>\n",
    "16. <b>poutcome</b>: outcome of previous marketing campaign (categorical) - success, failure, unknown, other <br>\n",
    "\n",
    "#### Target variable\n",
    "17. <b>y</b>: Did the customer buy a term deposit? (categorical) - yes, no"
   ]
  },
  {
   "cell_type": "markdown",
   "id": "a46b2051",
   "metadata": {},
   "source": [
    "There are 42,600 observations in this dataset. Each represents an existing client the bank called by phone to sell the term deposit. \n",
    "\n",
    "#### Customer bank data:\n",
    "1. <b>age</b>: (numeric) <br>\n",
    "2. <b>job</b>: (categorical) - management, technician, services, blue-collar, admin, unemployed, self-employed, retired, entrepreneur, student, housemaid, unknown, NULL<br>\n",
    "3. <b>marital</b>: (categorical) - married, single, divorced, NULL<br>\n",
    "4. <b>education</b>: (categorical) - tertiary, unknown, secondary, primary, NULL<br>\n",
    "5. <b>default</b>: Any credit in default? (cateogrical) - yes, no <br>\n",
    "6. <b>balance</b>: Bank account balance (numeric) <br>\n",
    "7. <b>housing</b>: Any housing loan? (categorical) - yes, no <br>\n",
    "8. <b>loan</b>: Any personal loan? (categorical) - yes, no, NULL <br>\n",
    "\n",
    "#### Last contact of market campaign:\n",
    "9. <b>contact</b>: Communication type (categorical) - cellular, telephone, unknown<br>\n",
    "10. <b>day</b>: Contact day (numeric) - 1 to 31 <br>\n",
    "11. <b>month</b>: Contact month (categorical) -  jan, feb, mar, apr, may, jun, jul, aug, sep, oct, nov, dec<br>\n",
    "12. <b>duration</b>: Contact duration in seconds (numeric) <br>\n",
    "\n",
    "#### Other attributes:\n",
    "13. <b>campaign</b>: # of contacts performed (numeric) <br>\n",
    "14. <b>pdays</b>: # of days contacted from previous campaign call (numeric) <br>\n",
    "15. <b>previous</b>: # of contacts performed before this campaign and for this client (numeric) <br>\n",
    "16. <b>poutcome</b>: outcome of previous marketing campaign (categorical) - success, failure, unknown, other <br>\n",
    "\n",
    "#### Target variable\n",
    "17. <b>y</b>: Did the customer buy a term deposit? (categorical) - yes, no"
   ]
  },
  {
   "cell_type": "markdown",
   "id": "64c7fbd5",
   "metadata": {},
   "source": [
    "#### 2.1 Handle missing values\n",
    "\n",
    "It is hard to just fill in mean, median or mode in this scenrio because we have missing values in both categorical and numeric data, so I will remove all the rows with NULL values, which is around 20% of data.\n",
    "\n",
    "Compared with the class balance before we remove NaN values, it's only 0.1% difference so removing NaN values did not have great difference on target variable balance so I will go ahead to remove the null values."
   ]
  },
  {
   "cell_type": "code",
   "execution_count": 35,
   "id": "e058a824",
   "metadata": {},
   "outputs": [
    {
     "name": "stdout",
     "output_type": "stream",
     "text": [
      "Before removing NaN class balance, how many percent bought the term deposit\n",
      " 9.859154929577464 %\n",
      "\n",
      "Before removing NaN class balance, how many percent bought the term deposit\n",
      " 9.956059204440333 %\n",
      "\n"
     ]
    }
   ],
   "source": [
    "print(\"Before removing NaN class balance, how many percent bought the term deposit\\n\",\n",
    "      (df['y'].value_counts()['yes'] / (df['y'].value_counts()['yes'] + df['y'].value_counts()['no']))*100,\n",
    "     \"%\\n\")\n",
    "\n",
    "df_remove_na = df[df != 'NULL']\n",
    "df_remove_na = df_remove_na.dropna()\n",
    "\n",
    "print(\"Before removing NaN class balance, how many percent bought the term deposit\\n\", \n",
    "      (df_remove_na['y'].value_counts()['yes'] / (df_remove_na['y'].value_counts()['yes'] + df_remove_na['y'].value_counts()['no'])) *100,\n",
    "     \"%\\n\")"
   ]
  },
  {
   "cell_type": "code",
   "execution_count": 36,
   "id": "ce02e89c",
   "metadata": {},
   "outputs": [
    {
     "data": {
      "image/png": "[encoded data removed]",
      "text/plain": [
       "<Figure size 288x288 with 1 Axes>"
      ]
     },
     "metadata": {},
     "output_type": "display_data"
    }
   ],
   "source": [
    "ratio = df.y.value_counts()\n",
    "\n",
    "plt.figure(figsize = (4,4))\n",
    "\n",
    "plt.pie(ratio, autopct='%1.2f%%', \n",
    "        pctdistance = 0.6, colors = ['#B2C1C3', '#00EAFF'],\n",
    "        startangle = 60, wedgeprops = {'width' : 0.65}, textprops={'fontsize': 14}, labels = ['No', 'Yes'])\n",
    "plt.title('Before removing NULL values', fontdict = {'fontsize':'14'})\n",
    "plt.axis('square');"
   ]
  },
  {
   "cell_type": "code",
   "execution_count": 37,
   "id": "085ccb5d",
   "metadata": {},
   "outputs": [
    {
     "data": {
      "image/png": "[encoded data removed]",
      "text/plain": [
       "<Figure size 288x288 with 1 Axes>"
      ]
     },
     "metadata": {},
     "output_type": "display_data"
    }
   ],
   "source": [
    "ratio = df_remove_na.y.value_counts()\n",
    "\n",
    "plt.figure(figsize = (4,4))\n",
    "\n",
    "plt.pie(ratio, autopct='%1.2f%%', \n",
    "        pctdistance = 0.6, colors = ['#B2C1C3', '#00EAFF'],\n",
    "        startangle = 60, wedgeprops = {'width' : 0.65}, textprops={'fontsize': 14}, labels = ['No', 'Yes'])\n",
    "plt.title('After removing NULL values', fontdict = {'fontsize':'14'})\n",
    "plt.axis('square');"
   ]
  },
  {
   "cell_type": "code",
   "execution_count": 38,
   "id": "fb8bd7df",
   "metadata": {},
   "outputs": [],
   "source": [
    "# Remove Null values and drop NaN\n",
    "df = df[df != 'NULL']\n",
    "\n",
    "#df['age'] = df['age'].fillna(40.9)\n",
    "df = df.dropna()"
   ]
  },
  {
   "cell_type": "markdown",
   "id": "5dd38c69",
   "metadata": {},
   "source": [
    "#### 2.3 Numeric and categorical"
   ]
  },
  {
   "cell_type": "code",
   "execution_count": 39,
   "id": "5bdadfd2",
   "metadata": {},
   "outputs": [
    {
     "data": {
      "text/plain": [
       "(34592, 17)"
      ]
     },
     "execution_count": 39,
     "metadata": {},
     "output_type": "execute_result"
    }
   ],
   "source": [
    "# Convert numberic data to int data type\n",
    "\n",
    "df['age'] = df['age'].astype(int)\n",
    "df['balance'] = df['balance'].astype(int)\n",
    "df['day'] = df['day'].astype(int)\n",
    "df['duration'] = df['duration'].astype(int)\n",
    "df['campaign'] = df['campaign'].astype(int)\n",
    "df['pdays'] = df['pdays'].astype(int)\n",
    "df['previous'] = df['previous'].astype(int)\n",
    "\n",
    "# Convert months into integers for analysis\n",
    "df['month'] = df['month'].replace(['jan'], [1])\n",
    "df['month'] = df['month'].replace(['feb'], [2])\n",
    "df['month'] = df['month'].replace(['mar'], [3])\n",
    "df['month'] = df['month'].replace(['apr'], [4])\n",
    "df['month'] = df['month'].replace(['may'], [5])\n",
    "df['month'] = df['month'].replace(['jun'], [6])\n",
    "df['month'] = df['month'].replace(['jul'], [7])\n",
    "df['month'] = df['month'].replace(['aug'], [8])\n",
    "df['month'] = df['month'].replace(['sep'], [9])\n",
    "df['month'] = df['month'].replace(['oct'], [10])\n",
    "df['month'] = df['month'].replace(['nov'], [11])\n",
    "df['month'] = df['month'].replace(['dec'], [12])\n",
    "\n",
    "# Replace output Yes as '1' and No as '0'\n",
    "df['y'] = df['y'].replace(['yes'], [1])\n",
    "df['y'] = df['y'].replace(['no'], [0])\n",
    "\n",
    "numeric = df[['age','balance','day','month','duration','campaign','pdays','previous','y']]\n",
    "categorical = df.drop(['age','balance','day','duration','campaign','pdays','previous'] , axis=1)\n",
    "\n",
    "y_df = df[df['y'] == 1]\n",
    "         \n",
    "df.shape"
   ]
  },
  {
   "cell_type": "code",
   "execution_count": 40,
   "id": "be1cde57",
   "metadata": {},
   "outputs": [
    {
     "name": "stdout",
     "output_type": "stream",
     "text": [
      "<class 'pandas.core.frame.DataFrame'>\n",
      "Int64Index: 34592 entries, 0 to 39963\n",
      "Data columns (total 17 columns):\n",
      " #   Column     Non-Null Count  Dtype \n",
      "---  ------     --------------  ----- \n",
      " 0   age        34592 non-null  int64 \n",
      " 1   job        34592 non-null  object\n",
      " 2   marital    34592 non-null  object\n",
      " 3   education  34592 non-null  object\n",
      " 4   default    34592 non-null  object\n",
      " 5   balance    34592 non-null  int64 \n",
      " 6   housing    34592 non-null  object\n",
      " 7   loan       34592 non-null  object\n",
      " 8   contact    34592 non-null  object\n",
      " 9   day        34592 non-null  int64 \n",
      " 10  month      34592 non-null  int64 \n",
      " 11  duration   34592 non-null  int64 \n",
      " 12  campaign   34592 non-null  int64 \n",
      " 13  pdays      34592 non-null  int64 \n",
      " 14  previous   34592 non-null  int64 \n",
      " 15  poutcome   34592 non-null  object\n",
      " 16  y          34592 non-null  int64 \n",
      "dtypes: int64(9), object(8)\n",
      "memory usage: 4.8+ MB\n"
     ]
    }
   ],
   "source": [
    "# Checking the column types\n",
    "\n",
    "df.info()"
   ]
  },
  {
   "cell_type": "markdown",
   "id": "dc25c3d1",
   "metadata": {},
   "source": [
    "#### 2.3 Descriptive Data Analysis for numeric variables \n",
    "<br>\n",
    "\n",
    "1. Mean <b>age</b> is 40.7, standard deviation is pretty high - 10<br>\n",
    "2. Mean <b>balance</b> is 1329, standard deviation is pretty high - 2981<br>\n",
    "3. Mean <b> duration</b> is 257, standard deviation is pretty high - 259 <br>\n",
    "<br>\n",
    "\n",
    "The data balance might be skewed. "
   ]
  },
  {
   "cell_type": "code",
   "execution_count": 13,
   "id": "f899a927",
   "metadata": {},
   "outputs": [
    {
     "data": {
      "text/html": [
       "<div>\n",
       "<style scoped>\n",
       "    .dataframe tbody tr th:only-of-type {\n",
       "        vertical-align: middle;\n",
       "    }\n",
       "\n",
       "    .dataframe tbody tr th {\n",
       "        vertical-align: top;\n",
       "    }\n",
       "\n",
       "    .dataframe thead th {\n",
       "        text-align: right;\n",
       "    }\n",
       "</style>\n",
       "<table border=\"1\" class=\"dataframe\">\n",
       "  <thead>\n",
       "    <tr style=\"text-align: right;\">\n",
       "      <th></th>\n",
       "      <th>age</th>\n",
       "      <th>day</th>\n",
       "      <th>month</th>\n",
       "      <th>duration</th>\n",
       "      <th>campaign</th>\n",
       "      <th>pdays</th>\n",
       "      <th>previous</th>\n",
       "      <th>y</th>\n",
       "    </tr>\n",
       "  </thead>\n",
       "  <tbody>\n",
       "    <tr>\n",
       "      <th>count</th>\n",
       "      <td>34592.000000</td>\n",
       "      <td>34592.000000</td>\n",
       "      <td>34592.000000</td>\n",
       "      <td>34592.000000</td>\n",
       "      <td>34592.000000</td>\n",
       "      <td>34592.000000</td>\n",
       "      <td>34592.000000</td>\n",
       "      <td>34592.000000</td>\n",
       "    </tr>\n",
       "    <tr>\n",
       "      <th>mean</th>\n",
       "      <td>40.683482</td>\n",
       "      <td>15.929290</td>\n",
       "      <td>6.103579</td>\n",
       "      <td>256.687616</td>\n",
       "      <td>2.825682</td>\n",
       "      <td>35.941171</td>\n",
       "      <td>0.505261</td>\n",
       "      <td>0.099561</td>\n",
       "    </tr>\n",
       "    <tr>\n",
       "      <th>std</th>\n",
       "      <td>10.161207</td>\n",
       "      <td>8.314277</td>\n",
       "      <td>2.359264</td>\n",
       "      <td>258.742139</td>\n",
       "      <td>3.192452</td>\n",
       "      <td>95.466821</td>\n",
       "      <td>2.349374</td>\n",
       "      <td>0.299418</td>\n",
       "    </tr>\n",
       "    <tr>\n",
       "      <th>min</th>\n",
       "      <td>18.000000</td>\n",
       "      <td>1.000000</td>\n",
       "      <td>1.000000</td>\n",
       "      <td>0.000000</td>\n",
       "      <td>1.000000</td>\n",
       "      <td>-1.000000</td>\n",
       "      <td>0.000000</td>\n",
       "      <td>0.000000</td>\n",
       "    </tr>\n",
       "    <tr>\n",
       "      <th>25%</th>\n",
       "      <td>33.000000</td>\n",
       "      <td>8.000000</td>\n",
       "      <td>5.000000</td>\n",
       "      <td>102.000000</td>\n",
       "      <td>1.000000</td>\n",
       "      <td>-1.000000</td>\n",
       "      <td>0.000000</td>\n",
       "      <td>0.000000</td>\n",
       "    </tr>\n",
       "    <tr>\n",
       "      <th>50%</th>\n",
       "      <td>39.000000</td>\n",
       "      <td>16.000000</td>\n",
       "      <td>6.000000</td>\n",
       "      <td>178.000000</td>\n",
       "      <td>2.000000</td>\n",
       "      <td>-1.000000</td>\n",
       "      <td>0.000000</td>\n",
       "      <td>0.000000</td>\n",
       "    </tr>\n",
       "    <tr>\n",
       "      <th>75%</th>\n",
       "      <td>48.000000</td>\n",
       "      <td>21.000000</td>\n",
       "      <td>7.000000</td>\n",
       "      <td>317.000000</td>\n",
       "      <td>3.000000</td>\n",
       "      <td>-1.000000</td>\n",
       "      <td>0.000000</td>\n",
       "      <td>0.000000</td>\n",
       "    </tr>\n",
       "    <tr>\n",
       "      <th>max</th>\n",
       "      <td>95.000000</td>\n",
       "      <td>31.000000</td>\n",
       "      <td>12.000000</td>\n",
       "      <td>4918.000000</td>\n",
       "      <td>63.000000</td>\n",
       "      <td>850.000000</td>\n",
       "      <td>275.000000</td>\n",
       "      <td>1.000000</td>\n",
       "    </tr>\n",
       "  </tbody>\n",
       "</table>\n",
       "</div>"
      ],
      "text/plain": [
       "                age           day         month      duration      campaign  \\\n",
       "count  34592.000000  34592.000000  34592.000000  34592.000000  34592.000000   \n",
       "mean      40.683482     15.929290      6.103579    256.687616      2.825682   \n",
       "std       10.161207      8.314277      2.359264    258.742139      3.192452   \n",
       "min       18.000000      1.000000      1.000000      0.000000      1.000000   \n",
       "25%       33.000000      8.000000      5.000000    102.000000      1.000000   \n",
       "50%       39.000000     16.000000      6.000000    178.000000      2.000000   \n",
       "75%       48.000000     21.000000      7.000000    317.000000      3.000000   \n",
       "max       95.000000     31.000000     12.000000   4918.000000     63.000000   \n",
       "\n",
       "              pdays      previous             y  \n",
       "count  34592.000000  34592.000000  34592.000000  \n",
       "mean      35.941171      0.505261      0.099561  \n",
       "std       95.466821      2.349374      0.299418  \n",
       "min       -1.000000      0.000000      0.000000  \n",
       "25%       -1.000000      0.000000      0.000000  \n",
       "50%       -1.000000      0.000000      0.000000  \n",
       "75%       -1.000000      0.000000      0.000000  \n",
       "max      850.000000    275.000000      1.000000  "
      ]
     },
     "execution_count": 13,
     "metadata": {},
     "output_type": "execute_result"
    }
   ],
   "source": [
    "numeric.describe()"
   ]
  },
  {
   "cell_type": "markdown",
   "id": "00872520",
   "metadata": {},
   "source": [
    "# 3. Exploratory Data Analysis"
   ]
  },
  {
   "cell_type": "markdown",
   "id": "2454e92a",
   "metadata": {},
   "source": [
    "### 3.1 Exploring the variables distributions\n",
    "\n",
    "Let't look at the percentage of customers bought the term deposti after the market campiagn call"
   ]
  },
  {
   "cell_type": "markdown",
   "id": "795dde39",
   "metadata": {},
   "source": [
    "#### 3.1.1 Target Variable class balance"
   ]
  },
  {
   "cell_type": "code",
   "execution_count": 14,
   "id": "3751cac0",
   "metadata": {},
   "outputs": [
    {
     "data": {
      "image/png": "[encoded data removed]",
      "text/plain": [
       "<Figure size 288x288 with 1 Axes>"
      ]
     },
     "metadata": {},
     "output_type": "display_data"
    }
   ],
   "source": [
    "ratio = df.y.value_counts()\n",
    "\n",
    "plt.figure(figsize = (4,4))\n",
    "\n",
    "plt.pie(ratio, autopct='%1.2f%%', \n",
    "        pctdistance = 0.6, colors = ['#B2C1C3', '#00EAFF'],\n",
    "        startangle = 60, wedgeprops = {'width' : 0.65}, textprops={'fontsize': 14}, labels = ['No', 'Yes'])\n",
    "plt.title('Customers who bought term deposit after the campaign call', fontdict = {'fontsize':'14'})\n",
    "plt.axis('square');"
   ]
  },
  {
   "cell_type": "markdown",
   "id": "4b51cc8e",
   "metadata": {},
   "source": [
    "The class is highly imbalance - with 90.04% as 'No' and only 9.96% as 'Yes', which means - \n",
    "\n",
    "#### Of all the total campaign calls, only 9.96% have been converted to buy the term deposit"
   ]
  },
  {
   "cell_type": "markdown",
   "id": "37bbac3a",
   "metadata": {},
   "source": [
    "#### 3.1.2 Numeric variables distribution (age, balance, day, duration, campaign, pdays, previous)"
   ]
  },
  {
   "cell_type": "code",
   "execution_count": 15,
   "id": "4f7e08e3",
   "metadata": {},
   "outputs": [
    {
     "data": {
      "image/png": "[encoded data removed]",
      "text/plain": [
       "<Figure size 1152x720 with 9 Axes>"
      ]
     },
     "metadata": {},
     "output_type": "display_data"
    }
   ],
   "source": [
    "# Let's see how the numeric data is distributed.\n",
    "\n",
    "plt.style.use('seaborn-whitegrid')\n",
    "\n",
    "numeric.hist(bins=20, figsize=(16,10), color='#00EAFF')\n",
    "plt.show()"
   ]
  },
  {
   "cell_type": "markdown",
   "id": "a44e4480",
   "metadata": {},
   "source": [
    "#### 3.1.3 Numeric variables correlation matrix"
   ]
  },
  {
   "cell_type": "code",
   "execution_count": 16,
   "id": "4c6c0a5b",
   "metadata": {},
   "outputs": [
    {
     "data": {
      "image/png": "[encoded data removed]",
      "text/plain": [
       "<Figure size 432x360 with 2 Axes>"
      ]
     },
     "metadata": {},
     "output_type": "display_data"
    }
   ],
   "source": [
    "corr = numeric.corr()\n",
    "\n",
    "cor_plot = sns.heatmap(corr,annot=True,cbar = True, cmap='Greens',linewidths=0.2,annot_kws={'size':10})\n",
    "fig=plt.gcf()\n",
    "fig.set_size_inches(6,5)\n",
    "plt.xticks(fontsize=10,rotation=-30)\n",
    "plt.yticks(fontsize=10)\n",
    "plt.title('Correlation Matrix')\n",
    "plt.show()"
   ]
  },
  {
   "cell_type": "markdown",
   "id": "40edcbef",
   "metadata": {},
   "source": [
    "To investigate more about correlation, a correlation matrix was plotted with all numberic variables. The call \"duration\" and \"target variable\" has a relatively strong correlation. That makes sense, the longer customer stay on the call, the more likely they will get solicited to buy the product. Lets dive deeper. There is a moderate correlation with “previous contacts”, “balance”, “month of contact” and “number of campaign”. \n",
    "\n",
    "Let's dive deeper into the influences on campaign outcome."
   ]
  },
  {
   "cell_type": "markdown",
   "id": "37ff0f6f",
   "metadata": {},
   "source": [
    "### 3.2 Conversion rate to buy Term Deposit\n",
    "\n",
    "Conversion rate is used as a metric to look at how effective were the marketing calls. It is calculated as:\n",
    "\n",
    "Total # of 'Yes' after the phone call\n",
    "/\n",
    "Total # of phone calls"
   ]
  },
  {
   "cell_type": "markdown",
   "id": "da9e3311",
   "metadata": {},
   "source": [
    "#### 3.2.1 Conversion rate of 'Call Duration'"
   ]
  },
  {
   "cell_type": "code",
   "execution_count": 17,
   "id": "cae1a7fc",
   "metadata": {},
   "outputs": [],
   "source": [
    "duration = numeric[['duration','y']]\n",
    "duration_group = [duration]\n",
    "\n",
    "for column in duration_group:\n",
    "    column.loc[(column[\"duration\"] >= 0) & (column[\"duration\"] <= 120), 'duration_group'] = 'Under 2 mins'\n",
    "    column.loc[(column[\"duration\"] >= 121) & (column[\"duration\"] <= 300), 'duration_group'] = '2 - 5 mins'\n",
    "    column.loc[(column[\"duration\"] >= 301) & (column[\"duration\"] <= 900), 'duration_group'] = '5 - 15 mins'\n",
    "    column.loc[(column[\"duration\"] >= 901) & (column[\"duration\"] <= 1800), 'duration_group'] = '15 - 30 mins'\n",
    "    column.loc[column[\"duration\"] >= 1801, 'duration_group'] = 'Above 30 mins'"
   ]
  },
  {
   "cell_type": "code",
   "execution_count": 18,
   "id": "d1745717",
   "metadata": {},
   "outputs": [
    {
     "data": {
      "text/html": [
       "<div>\n",
       "<style scoped>\n",
       "    .dataframe tbody tr th:only-of-type {\n",
       "        vertical-align: middle;\n",
       "    }\n",
       "\n",
       "    .dataframe tbody tr th {\n",
       "        vertical-align: top;\n",
       "    }\n",
       "\n",
       "    .dataframe thead th {\n",
       "        text-align: right;\n",
       "    }\n",
       "</style>\n",
       "<table border=\"1\" class=\"dataframe\">\n",
       "  <thead>\n",
       "    <tr style=\"text-align: right;\">\n",
       "      <th></th>\n",
       "      <th>y</th>\n",
       "      <th>duration_group</th>\n",
       "    </tr>\n",
       "  </thead>\n",
       "  <tbody>\n",
       "    <tr>\n",
       "      <th>0</th>\n",
       "      <td>0</td>\n",
       "      <td>5 - 15 mins</td>\n",
       "    </tr>\n",
       "    <tr>\n",
       "      <th>1</th>\n",
       "      <td>0</td>\n",
       "      <td>2 - 5 mins</td>\n",
       "    </tr>\n",
       "    <tr>\n",
       "      <th>2</th>\n",
       "      <td>0</td>\n",
       "      <td>2 - 5 mins</td>\n",
       "    </tr>\n",
       "    <tr>\n",
       "      <th>3</th>\n",
       "      <td>0</td>\n",
       "      <td>2 - 5 mins</td>\n",
       "    </tr>\n",
       "    <tr>\n",
       "      <th>4</th>\n",
       "      <td>0</td>\n",
       "      <td>Under 2 mins</td>\n",
       "    </tr>\n",
       "    <tr>\n",
       "      <th>...</th>\n",
       "      <td>...</td>\n",
       "      <td>...</td>\n",
       "    </tr>\n",
       "    <tr>\n",
       "      <th>39958</th>\n",
       "      <td>1</td>\n",
       "      <td>5 - 15 mins</td>\n",
       "    </tr>\n",
       "    <tr>\n",
       "      <th>39960</th>\n",
       "      <td>0</td>\n",
       "      <td>2 - 5 mins</td>\n",
       "    </tr>\n",
       "    <tr>\n",
       "      <th>39961</th>\n",
       "      <td>0</td>\n",
       "      <td>Under 2 mins</td>\n",
       "    </tr>\n",
       "    <tr>\n",
       "      <th>39962</th>\n",
       "      <td>0</td>\n",
       "      <td>2 - 5 mins</td>\n",
       "    </tr>\n",
       "    <tr>\n",
       "      <th>39963</th>\n",
       "      <td>0</td>\n",
       "      <td>2 - 5 mins</td>\n",
       "    </tr>\n",
       "  </tbody>\n",
       "</table>\n",
       "<p>34592 rows × 2 columns</p>\n",
       "</div>"
      ],
      "text/plain": [
       "       y duration_group\n",
       "0      0    5 - 15 mins\n",
       "1      0     2 - 5 mins\n",
       "2      0     2 - 5 mins\n",
       "3      0     2 - 5 mins\n",
       "4      0   Under 2 mins\n",
       "...   ..            ...\n",
       "39958  1    5 - 15 mins\n",
       "39960  0     2 - 5 mins\n",
       "39961  0   Under 2 mins\n",
       "39962  0     2 - 5 mins\n",
       "39963  0     2 - 5 mins\n",
       "\n",
       "[34592 rows x 2 columns]"
      ]
     },
     "execution_count": 18,
     "metadata": {},
     "output_type": "execute_result"
    }
   ],
   "source": [
    "duration_yes = duration['y'][duration['y'] == 1]\n",
    "duration_no = duration['y'][duration['y'] == 0]\n",
    "\n",
    "duration = duration[['y', 'duration_group']]\n",
    "duration"
   ]
  },
  {
   "cell_type": "code",
   "execution_count": 19,
   "id": "39d057e6",
   "metadata": {},
   "outputs": [],
   "source": [
    "under2 = duration[duration['duration_group'] == 'Under 2 mins']\n",
    "two_5 = duration[duration['duration_group'] == '2 - 5 mins']\n",
    "five_16 = duration[duration['duration_group'] == '5 - 15 mins']\n",
    "fifteen_30 = duration[duration['duration_group'] == '15 - 30 mins']\n",
    "above_30 = duration[duration['duration_group'] == 'Above 30 mins']\n",
    "\n",
    "under2_yes = under2[under2['y'] == 1].count()[0]\n",
    "under2_no = under2[under2['y'] == 0].count()[0]\n",
    "\n",
    "two_5_yes = two_5[two_5['y'] == 1].count()[0]\n",
    "two_5_no = two_5[two_5['y'] == 0].count()[0]\n",
    "\n",
    "five_16_yes = five_16[five_16['y'] == 1].count()[0]\n",
    "five_16_no = five_16[five_16['y'] == 0].count()[0]\n",
    "\n",
    "fifteen_30_yes = fifteen_30[fifteen_30['y'] == 1].count()[0]\n",
    "fifteen_30_no = fifteen_30[fifteen_30['y'] == 0].count()[0]\n",
    "\n",
    "above_30_yes = above_30[above_30['y'] == 1].count()[0]\n",
    "above_30_no = above_30[above_30['y'] == 0].count()[0]"
   ]
  },
  {
   "cell_type": "code",
   "execution_count": 20,
   "id": "b80eaec8",
   "metadata": {},
   "outputs": [
    {
     "data": {
      "image/png": "[encoded data removed]",
      "text/plain": [
       "<Figure size 432x288 with 1 Axes>"
      ]
     },
     "metadata": {},
     "output_type": "display_data"
    }
   ],
   "source": [
    "labels = ['Under 2 mins', '2 - 5 mins', '5 - 15 mins', '15 - 30 mins', 'Above 30 mins']\n",
    "yes = [under2_yes / (under2_yes + under2_no) * 100,\n",
    "       two_5_yes / (two_5_yes + two_5_no) * 100,\n",
    "       five_16_yes / (five_16_yes + five_16_no) * 100,\n",
    "       fifteen_30_yes / (fifteen_30_yes + fifteen_30_no) * 100,\n",
    "       above_30_yes / (above_30_yes + above_30_no) * 100]\n",
    "no = [under2_no / (under2_yes + under2_no) * 100,\n",
    "      two_5_no / (two_5_yes + two_5_no) * 100,\n",
    "      five_16_no / (five_16_yes + five_16_no) * 100,\n",
    "      fifteen_30_no / (fifteen_30_yes + fifteen_30_no) * 100,\n",
    "      above_30_no / (above_30_yes + above_30_no) * 100]\n",
    "\n",
    "width = 0.5       # the width of the bars: can also be len(x) sequence\n",
    "\n",
    "fig, ax = plt.subplots()\n",
    "\n",
    "ax.bar(labels, yes, width, label='yes', color = '#00EAFF')\n",
    "ax.bar(labels, no, width, bottom=yes, label='no', color = '#B2C1C3')\n",
    "\n",
    "ax.set_ylabel('Percentage %')\n",
    "ax.set_title('Conversion rate of call duration')\n",
    "ax.legend(bbox_to_anchor=(1.05, 1.0), loc='upper left')\n",
    "\n",
    "plt.show()"
   ]
  },
  {
   "cell_type": "markdown",
   "id": "3f213b3b",
   "metadata": {},
   "source": [
    "<b> Observations: From the graph we can see the call duration of '15-30 mins' and 'Above 30 mins' are the most effective - with more than half of the customers would end up buy a term deposit."
   ]
  },
  {
   "cell_type": "markdown",
   "id": "c8e39734",
   "metadata": {},
   "source": [
    "#### 3.2.2 Conversion rate of 'Age group'"
   ]
  },
  {
   "cell_type": "code",
   "execution_count": 21,
   "id": "e63717e9",
   "metadata": {},
   "outputs": [
    {
     "data": {
      "text/html": [
       "<div>\n",
       "<style scoped>\n",
       "    .dataframe tbody tr th:only-of-type {\n",
       "        vertical-align: middle;\n",
       "    }\n",
       "\n",
       "    .dataframe tbody tr th {\n",
       "        vertical-align: top;\n",
       "    }\n",
       "\n",
       "    .dataframe thead th {\n",
       "        text-align: right;\n",
       "    }\n",
       "</style>\n",
       "<table border=\"1\" class=\"dataframe\">\n",
       "  <thead>\n",
       "    <tr style=\"text-align: right;\">\n",
       "      <th></th>\n",
       "      <th>y</th>\n",
       "      <th>age_group</th>\n",
       "    </tr>\n",
       "  </thead>\n",
       "  <tbody>\n",
       "    <tr>\n",
       "      <th>0</th>\n",
       "      <td>0</td>\n",
       "      <td>30-39</td>\n",
       "    </tr>\n",
       "    <tr>\n",
       "      <th>1</th>\n",
       "      <td>0</td>\n",
       "      <td>50-59</td>\n",
       "    </tr>\n",
       "    <tr>\n",
       "      <th>2</th>\n",
       "      <td>0</td>\n",
       "      <td>50-59</td>\n",
       "    </tr>\n",
       "    <tr>\n",
       "      <th>3</th>\n",
       "      <td>0</td>\n",
       "      <td>50-59</td>\n",
       "    </tr>\n",
       "    <tr>\n",
       "      <th>4</th>\n",
       "      <td>0</td>\n",
       "      <td>40-49</td>\n",
       "    </tr>\n",
       "    <tr>\n",
       "      <th>...</th>\n",
       "      <td>...</td>\n",
       "      <td>...</td>\n",
       "    </tr>\n",
       "    <tr>\n",
       "      <th>39958</th>\n",
       "      <td>1</td>\n",
       "      <td>40-49</td>\n",
       "    </tr>\n",
       "    <tr>\n",
       "      <th>39960</th>\n",
       "      <td>0</td>\n",
       "      <td>Below 30</td>\n",
       "    </tr>\n",
       "    <tr>\n",
       "      <th>39961</th>\n",
       "      <td>0</td>\n",
       "      <td>40-49</td>\n",
       "    </tr>\n",
       "    <tr>\n",
       "      <th>39962</th>\n",
       "      <td>0</td>\n",
       "      <td>30-39</td>\n",
       "    </tr>\n",
       "    <tr>\n",
       "      <th>39963</th>\n",
       "      <td>0</td>\n",
       "      <td>30-39</td>\n",
       "    </tr>\n",
       "  </tbody>\n",
       "</table>\n",
       "<p>34592 rows × 2 columns</p>\n",
       "</div>"
      ],
      "text/plain": [
       "       y age_group\n",
       "0      0     30-39\n",
       "1      0     50-59\n",
       "2      0     50-59\n",
       "3      0     50-59\n",
       "4      0     40-49\n",
       "...   ..       ...\n",
       "39958  1     40-49\n",
       "39960  0  Below 30\n",
       "39961  0     40-49\n",
       "39962  0     30-39\n",
       "39963  0     30-39\n",
       "\n",
       "[34592 rows x 2 columns]"
      ]
     },
     "execution_count": 21,
     "metadata": {},
     "output_type": "execute_result"
    }
   ],
   "source": [
    "age = numeric[['age','y']]\n",
    "age_group = [age]\n",
    "\n",
    "for column in age_group:\n",
    "    column.loc[column[\"age\"] < 30,  'age_group'] = 'Below 30'\n",
    "    column.loc[(column[\"age\"] >= 30) & (column[\"age\"] <= 39), 'age_group'] = '30-39'\n",
    "    column.loc[(column[\"age\"] >= 40) & (column[\"age\"] <= 49), 'age_group'] = '40-49'\n",
    "    column.loc[(column[\"age\"] >= 50) & (column[\"age\"] <= 59), 'age_group'] = '50-59'\n",
    "    column.loc[column[\"age\"] >= 60, 'age_group'] = 'Above 60'\n",
    "\n",
    "yes = age['y'][age['y'] == 1]\n",
    "no = age['y'][age['y'] == 0]\n",
    "\n",
    "age = age[['y', 'age_group']]\n",
    "age"
   ]
  },
  {
   "cell_type": "code",
   "execution_count": 22,
   "id": "d6969f5b",
   "metadata": {},
   "outputs": [],
   "source": [
    "below30 = age[age['age_group'] == 'Below 30']\n",
    "b30 = age[age['age_group'] == '30-39']\n",
    "b40 = age[age['age_group'] == '40-49']\n",
    "b50 = age[age['age_group'] == '50-59']\n",
    "above60 = age[age['age_group'] == 'Above 60']\n",
    "\n",
    "below30yes = below30[below30['y'] == 1].count()[0]\n",
    "below30no = below30[below30['y'] == 0].count()[0]\n",
    "\n",
    "b30yes = b30[b30['y'] == 1].count()[0]\n",
    "b30no = b30[b30['y'] == 0].count()[0]\n",
    "\n",
    "b40yes = b40[b40['y'] == 1].count()[0]\n",
    "b40no = b40[b40['y'] == 0].count()[0]\n",
    "\n",
    "b50yes = b50[b50['y'] == 1].count()[0]\n",
    "b50no = b50[b50['y'] == 0].count()[0]\n",
    "\n",
    "above60yes = above60[above60['y'] == 1].count()[0]\n",
    "above60no = above60[above60['y'] == 0].count()[0]"
   ]
  },
  {
   "cell_type": "code",
   "execution_count": 23,
   "id": "1df350f6",
   "metadata": {},
   "outputs": [
    {
     "data": {
      "image/png": "[encoded data removed]",
      "text/plain": [
       "<Figure size 432x288 with 1 Axes>"
      ]
     },
     "metadata": {},
     "output_type": "display_data"
    }
   ],
   "source": [
    "labels = ['Below 30', '30-39', '40-49', '50-59', 'Above 60']\n",
    "\n",
    "yes = [below30yes / (below30yes + below30no) * 100, \n",
    "       b30yes / (b30yes + b30no) * 100, \n",
    "       b40yes / (b40yes + b40no) * 100, \n",
    "       b50yes / (b50yes + b50no) * 100, \n",
    "       above60yes / (above60yes + above60no) * 100]\n",
    "\n",
    "no = [below30no / (below30yes + below30no) * 100, \n",
    "      b30no / (b30yes + b30no) * 100, \n",
    "      b40no / (b40yes + b40no) * 100, \n",
    "      b50no / (b50yes + b50no) * 100, \n",
    "      above60no / (above60yes + above60no) * 100]\n",
    "width = 0.5       # the width of the bars: can also be len(x) sequence\n",
    "\n",
    "fig, ax = plt.subplots()\n",
    "\n",
    "ax.bar(labels, yes, width, label='yes', color = '#00EAFF')\n",
    "ax.bar(labels, no, width, bottom=yes, label='no', color = '#B2C1C3')\n",
    "\n",
    "ax.set_ylabel('Percentage (%)')\n",
    "ax.set_title('Conversion per age group')\n",
    "ax.legend(bbox_to_anchor=(1.05, 1.0), loc='upper left')\n",
    "\n",
    "plt.show()"
   ]
  },
  {
   "cell_type": "markdown",
   "id": "0b7dea04",
   "metadata": {},
   "source": [
    "<b> Observations: 96% of clients fall in age range of 20-60, the converstion rate is best for the age group 'Above 60' with 30% conversion, 'Below 30' seconds with a 18% conversion."
   ]
  },
  {
   "cell_type": "markdown",
   "id": "da1d1a79",
   "metadata": {},
   "source": [
    "#### 3.2.3 Conversion rate of 'Account balance'"
   ]
  },
  {
   "cell_type": "code",
   "execution_count": 42,
   "id": "f7424878",
   "metadata": {},
   "outputs": [
    {
     "data": {
      "text/plain": [
       "0-500               15288\n",
       "501-1500             8176\n",
       "Over 3001            4170\n",
       "1501-3000            3951\n",
       "Negative Balance     3007\n",
       "Name: balance_group, dtype: int64"
      ]
     },
     "execution_count": 42,
     "metadata": {},
     "output_type": "execute_result"
    }
   ],
   "source": [
    "balance_group = numeric[['balance','y']]\n",
    "balance_group = [balance]\n",
    "\n",
    "for column in balance_group:\n",
    "    column.loc[column[\"balance\"] < 0,  'balance_group'] = 'Negative Balance'\n",
    "    column.loc[(column[\"balance\"] >= 0) & (column[\"balance\"] <= 500), 'balance_group'] = '0-500'\n",
    "    column.loc[(column[\"balance\"] >= 501) & (column[\"balance\"] <= 1500), 'balance_group'] = '501-1500'\n",
    "    column.loc[(column[\"balance\"] >= 1501) & (column[\"balance\"] <= 3000), 'balance_group'] = '1501-3000'\n",
    "    column.loc[column[\"balance\"] >= 3001, 'balance_group'] = 'Over 3001'\n",
    "\n",
    "balance_yes = balance['y'][balance['y'] == 1]\n",
    "balance_no = balance['y'][balance['y'] == 0]\n",
    "\n",
    "balance = balance[['y', 'balance_group']]\n",
    "balance['balance_group'].value_counts()"
   ]
  },
  {
   "cell_type": "code",
   "execution_count": 43,
   "id": "039c6c8b",
   "metadata": {},
   "outputs": [],
   "source": [
    "neg = balance[balance['balance_group'] == 'Negative Balance']\n",
    "bal_500 = balance[balance['balance_group'] == '0-500']\n",
    "bal_1500 = balance[balance['balance_group'] == '501-1500']\n",
    "bal_3000 = balance[balance['balance_group'] == '1501-3000']\n",
    "above3001 = balance[balance['balance_group'] == 'Over 3001']\n",
    "\n",
    "neg_yes = neg[neg['y'] == 1].count()[0]\n",
    "neg_no = neg[neg['y'] == 0].count()[0]\n",
    "\n",
    "bal_500_yes = bal_500[bal_500['y'] == 1].count()[0]\n",
    "bal_500_no = bal_500[bal_500['y'] == 0].count()[0]\n",
    "\n",
    "bal_1500_yes = bal_1500[bal_1500['y'] == 1].count()[0]\n",
    "bal_1500_no = bal_1500[bal_1500['y'] == 0].count()[0]\n",
    "\n",
    "bal_3000_yes = bal_3000[bal_3000['y'] == 1].count()[0]\n",
    "bal_3000_no = bal_3000[bal_3000['y'] == 0].count()[0]\n",
    "\n",
    "above3001_yes = above3001[above3001['y'] == 1].count()[0]\n",
    "above3001_no = above3001[above3001['y'] == 0].count()[0]"
   ]
  },
  {
   "cell_type": "code",
   "execution_count": 44,
   "id": "caa31c25",
   "metadata": {},
   "outputs": [
    {
     "data": {
      "image/png": "[encoded data removed]",
      "text/plain": [
       "<Figure size 432x288 with 1 Axes>"
      ]
     },
     "metadata": {},
     "output_type": "display_data"
    }
   ],
   "source": [
    "labels = ['Negative Balance', '0-500', '501-1500', '1501-3000', 'Over 3001']\n",
    "\n",
    "yes = [neg_yes / (neg_yes + neg_no) * 100, \n",
    "       bal_500_yes / (bal_500_yes + bal_500_no) * 100, \n",
    "       bal_1500_yes / (bal_1500_yes + bal_1500_no) * 100, \n",
    "       bal_3000_yes / (bal_3000_yes + bal_3000_no) * 100, \n",
    "       above3001_yes / (above3001_yes + above3001_no) * 100]\n",
    "\n",
    "no = [neg_no / (neg_yes + neg_no) * 100, \n",
    "      bal_500_no / (bal_500_yes + bal_500_no) * 100, \n",
    "      bal_1500_no / (bal_1500_yes + bal_1500_no) * 100, \n",
    "      bal_3000_no / (bal_3000_yes + bal_3000_no) * 100, \n",
    "      above3001_no / (above3001_yes + above3001_no) * 100]\n",
    "width = 0.5       # the width of the bars: can also be len(x) sequence\n",
    "\n",
    "fig, ax = plt.subplots()\n",
    "\n",
    "ax.bar(labels, yes, width, label='yes', color = '#00EAFF')\n",
    "ax.bar(labels, no, width, bottom=yes, label='no', color = '#B2C1C3')\n",
    "\n",
    "ax.set_ylabel('Percentage (%)')\n",
    "ax.set_title('Conversion per account balance')\n",
    "ax.legend(bbox_to_anchor=(1.05, 1.0), loc='upper left')\n",
    "\n",
    "plt.show()"
   ]
  },
  {
   "cell_type": "markdown",
   "id": "8e981721",
   "metadata": {},
   "source": [
    "<b> Observations: The variations in conversion rate per account balance is not quite apparent, most of the balance groups have a 15-18% conversion rate. the more the balance, the higher the conversion rate."
   ]
  },
  {
   "cell_type": "markdown",
   "id": "015af27c",
   "metadata": {},
   "source": [
    "#### 3.2.4 Conversion rate of 'Job category'"
   ]
  },
  {
   "cell_type": "code",
   "execution_count": 46,
   "id": "37015c85",
   "metadata": {},
   "outputs": [
    {
     "data": {
      "text/html": [
       "<div>\n",
       "<style scoped>\n",
       "    .dataframe tbody tr th:only-of-type {\n",
       "        vertical-align: middle;\n",
       "    }\n",
       "\n",
       "    .dataframe tbody tr th {\n",
       "        vertical-align: top;\n",
       "    }\n",
       "\n",
       "    .dataframe thead th {\n",
       "        text-align: right;\n",
       "    }\n",
       "</style>\n",
       "<table border=\"1\" class=\"dataframe\">\n",
       "  <thead>\n",
       "    <tr style=\"text-align: right;\">\n",
       "      <th></th>\n",
       "      <th>job</th>\n",
       "      <th>y</th>\n",
       "    </tr>\n",
       "  </thead>\n",
       "  <tbody>\n",
       "    <tr>\n",
       "      <th>0</th>\n",
       "      <td>management</td>\n",
       "      <td>0</td>\n",
       "    </tr>\n",
       "    <tr>\n",
       "      <th>1</th>\n",
       "      <td>technician</td>\n",
       "      <td>0</td>\n",
       "    </tr>\n",
       "    <tr>\n",
       "      <th>2</th>\n",
       "      <td>services</td>\n",
       "      <td>0</td>\n",
       "    </tr>\n",
       "    <tr>\n",
       "      <th>3</th>\n",
       "      <td>blue-collar</td>\n",
       "      <td>0</td>\n",
       "    </tr>\n",
       "    <tr>\n",
       "      <th>4</th>\n",
       "      <td>technician</td>\n",
       "      <td>0</td>\n",
       "    </tr>\n",
       "    <tr>\n",
       "      <th>...</th>\n",
       "      <td>...</td>\n",
       "      <td>...</td>\n",
       "    </tr>\n",
       "    <tr>\n",
       "      <th>39958</th>\n",
       "      <td>blue-collar</td>\n",
       "      <td>1</td>\n",
       "    </tr>\n",
       "    <tr>\n",
       "      <th>39960</th>\n",
       "      <td>self-employed</td>\n",
       "      <td>0</td>\n",
       "    </tr>\n",
       "    <tr>\n",
       "      <th>39961</th>\n",
       "      <td>management</td>\n",
       "      <td>0</td>\n",
       "    </tr>\n",
       "    <tr>\n",
       "      <th>39962</th>\n",
       "      <td>services</td>\n",
       "      <td>0</td>\n",
       "    </tr>\n",
       "    <tr>\n",
       "      <th>39963</th>\n",
       "      <td>blue-collar</td>\n",
       "      <td>0</td>\n",
       "    </tr>\n",
       "  </tbody>\n",
       "</table>\n",
       "<p>34592 rows × 2 columns</p>\n",
       "</div>"
      ],
      "text/plain": [
       "                 job  y\n",
       "0         management  0\n",
       "1         technician  0\n",
       "2           services  0\n",
       "3        blue-collar  0\n",
       "4         technician  0\n",
       "...              ... ..\n",
       "39958    blue-collar  1\n",
       "39960  self-employed  0\n",
       "39961     management  0\n",
       "39962       services  0\n",
       "39963    blue-collar  0\n",
       "\n",
       "[34592 rows x 2 columns]"
      ]
     },
     "execution_count": 46,
     "metadata": {},
     "output_type": "execute_result"
    }
   ],
   "source": [
    "job = categorical[['job','y']]\n",
    "job"
   ]
  },
  {
   "cell_type": "code",
   "execution_count": 47,
   "id": "1a9366d0",
   "metadata": {},
   "outputs": [
    {
     "data": {
      "text/plain": [
       "['management',\n",
       " 'technician',\n",
       " 'services',\n",
       " 'blue-collar',\n",
       " 'admin.',\n",
       " 'unemployed',\n",
       " 'self-employed',\n",
       " 'retired',\n",
       " 'entrepreneur',\n",
       " 'student',\n",
       " 'housemaid',\n",
       " 'unknown']"
      ]
     },
     "execution_count": 47,
     "metadata": {},
     "output_type": "execute_result"
    }
   ],
   "source": [
    "job_category = list(job.job.unique())\n",
    "job_category"
   ]
  },
  {
   "cell_type": "code",
   "execution_count": 48,
   "id": "779f7bc1",
   "metadata": {},
   "outputs": [],
   "source": [
    "#admin_yes = job[['admin']['y'] == 1].count()[0]\n",
    "\n",
    "management = job[job['job'] == 'management']\n",
    "management_yes = management[management['y'] == 1].count()[0]\n",
    "management_no = management[management['y'] == 0].count()[0]\n",
    "\n",
    "technician = job[job['job'] == 'technician']\n",
    "technician_yes = technician[technician['y'] == 1].count()[0]\n",
    "technician_no = technician[technician['y'] == 0].count()[0]\n",
    "\n",
    "services = job[job['job'] == 'services']\n",
    "services_yes = services[services['y'] == 1].count()[0]\n",
    "services_no = services[services['y'] == 0].count()[0]\n",
    "\n",
    "bluecollar = job[job['job'] == 'blue-collar']\n",
    "bluecollar_yes = bluecollar[bluecollar['y'] == 1].count()[0]\n",
    "bluecollar_no = bluecollar[bluecollar['y'] == 0].count()[0]\n",
    "\n",
    "admin = job[job['job'] == 'admin.']\n",
    "admin_yes = admin[admin['y'] == 1].count()[0]\n",
    "admin_no = admin[admin['y'] == 0].count()[0]\n",
    "\n",
    "unemployed = job[job['job'] == 'unemployed']\n",
    "unemployed_yes = unemployed[unemployed['y'] == 1].count()[0]\n",
    "unemployed_no = unemployed[unemployed['y'] == 0].count()[0]\n",
    "\n",
    "selfemployed = job[job['job'] == 'self-employed']\n",
    "selfemployed_yes = selfemployed[selfemployed['y'] == 1].count()[0]\n",
    "selfemployed_no = selfemployed[selfemployed['y'] == 0].count()[0]\n",
    "\n",
    "retired = job[job['job'] == 'retired']\n",
    "retired_yes = retired[retired['y'] == 1].count()[0]\n",
    "retired_no = retired[retired['y'] == 0].count()[0]\n",
    "\n",
    "entrepreneur = job[job['job'] == 'entrepreneur']\n",
    "entrepreneur_yes = entrepreneur[entrepreneur['y'] == 1].count()[0]\n",
    "entrepreneur_no = entrepreneur[entrepreneur['y'] == 0].count()[0]\n",
    "\n",
    "student = job[job['job'] == 'student']\n",
    "student_yes = student[student['y'] == 1].count()[0]\n",
    "student_no = student[student['y'] == 0].count()[0]\n",
    "\n",
    "housemaid = job[job['job'] == 'housemaid']\n",
    "housemaid_yes = housemaid[housemaid['y'] == 1].count()[0]\n",
    "housemaid_no = housemaid[housemaid['y'] == 0].count()[0]\n",
    "\n",
    "unknown = job[job['job'] == 'unknown']\n",
    "unknown_yes = unknown[unknown['y'] == 1].count()[0]\n",
    "unknown_no = unknown[unknown['y'] == 0].count()[0]"
   ]
  },
  {
   "cell_type": "code",
   "execution_count": 49,
   "id": "636247e4",
   "metadata": {},
   "outputs": [
    {
     "data": {
      "image/png": "[encoded data removed]",
      "text/plain": [
       "<Figure size 432x288 with 1 Axes>"
      ]
     },
     "metadata": {},
     "output_type": "display_data"
    }
   ],
   "source": [
    "labels = job_category\n",
    "\n",
    "yes = [management_yes / (management_yes + management_no) * 100, \n",
    "       technician_yes / (technician_yes + technician_no) * 100, \n",
    "       services_yes / (services_yes + services_no) * 100, \n",
    "       bluecollar_yes / (bluecollar_yes + bluecollar_no) * 100, \n",
    "       admin_yes / (admin_yes + admin_no) * 100,\n",
    "       unemployed_yes / (unemployed_yes + unemployed_no) * 100,\n",
    "       selfemployed_yes / (selfemployed_yes + selfemployed_no) * 100,\n",
    "       retired_yes / (retired_yes + retired_no) * 100,\n",
    "       entrepreneur_yes / (entrepreneur_yes + entrepreneur_no) * 100,\n",
    "       student_yes / (student_yes + student_no) * 100,\n",
    "       housemaid_yes / (housemaid_yes + housemaid_no) * 100,\n",
    "       unknown_yes / (unknown_yes + unknown_no) * 100]\n",
    "\n",
    "no = [management_no / (management_yes + management_no) * 100, \n",
    "       technician_no / (technician_yes + technician_no) * 100, \n",
    "       services_no / (services_yes + services_no) * 100, \n",
    "       bluecollar_no / (bluecollar_yes + bluecollar_no) * 100, \n",
    "       admin_no / (admin_yes + admin_no) * 100,\n",
    "       unemployed_no / (unemployed_yes + unemployed_no) * 100,\n",
    "       selfemployed_no / (selfemployed_yes + selfemployed_no) * 100,\n",
    "       retired_no / (retired_yes + retired_no) * 100,\n",
    "       entrepreneur_no / (entrepreneur_yes + entrepreneur_no) * 100,\n",
    "       student_no / (student_yes + student_no) * 100,\n",
    "       housemaid_no / (housemaid_yes + housemaid_no) * 100,\n",
    "       unknown_no / (unknown_yes + unknown_no) * 100]\n",
    "       \n",
    "width = 0.5       # the width of the bars: can also be len(x) sequence\n",
    "\n",
    "fig, ax = plt.subplots()\n",
    "\n",
    "ax.barh(labels, yes, width, label='yes', color = '#00EAFF')\n",
    "ax.barh(labels, no, width, left=yes, label='no', color = '#B2C1C3')\n",
    "\n",
    "ax.set_xlabel('Percentage (%)')\n",
    "ax.set_title('Conversion per job category')\n",
    "ax.legend(bbox_to_anchor=(1.05, 1.0), loc='upper left')\n",
    "\n",
    "plt.show()"
   ]
  },
  {
   "cell_type": "markdown",
   "id": "3022b37e",
   "metadata": {},
   "source": [
    "<b> Observations: In overall data, students and retirees are much more likely to open term deposit. 45% of clients above 60 years of age agreed to open term deposit. But we have only 2.5% of customers in this age group. It is recommended to include more of students, retirees and customers older than 60 years old to get a more targeted exposure from direct call marketing. "
   ]
  },
  {
   "cell_type": "markdown",
   "id": "36d61767",
   "metadata": {},
   "source": [
    "#### 3.2.5 Conversion rate of 'Housing Loan (Yes/No)'"
   ]
  },
  {
   "cell_type": "markdown",
   "id": "eec6079e",
   "metadata": {},
   "source": [
    "#### Housing has a -10.7% correlation with target variable, let's see how it is distributed."
   ]
  },
  {
   "cell_type": "code",
   "execution_count": 50,
   "id": "2b585385",
   "metadata": {},
   "outputs": [
    {
     "data": {
      "text/html": [
       "<div>\n",
       "<style scoped>\n",
       "    .dataframe tbody tr th:only-of-type {\n",
       "        vertical-align: middle;\n",
       "    }\n",
       "\n",
       "    .dataframe tbody tr th {\n",
       "        vertical-align: top;\n",
       "    }\n",
       "\n",
       "    .dataframe thead th {\n",
       "        text-align: right;\n",
       "    }\n",
       "</style>\n",
       "<table border=\"1\" class=\"dataframe\">\n",
       "  <thead>\n",
       "    <tr style=\"text-align: right;\">\n",
       "      <th></th>\n",
       "      <th>housing</th>\n",
       "      <th>y</th>\n",
       "    </tr>\n",
       "  </thead>\n",
       "  <tbody>\n",
       "    <tr>\n",
       "      <th>housing</th>\n",
       "      <td>1.000000</td>\n",
       "      <td>-0.106899</td>\n",
       "    </tr>\n",
       "    <tr>\n",
       "      <th>y</th>\n",
       "      <td>-0.106899</td>\n",
       "      <td>1.000000</td>\n",
       "    </tr>\n",
       "  </tbody>\n",
       "</table>\n",
       "</div>"
      ],
      "text/plain": [
       "          housing         y\n",
       "housing  1.000000 -0.106899\n",
       "y       -0.106899  1.000000"
      ]
     },
     "execution_count": 50,
     "metadata": {},
     "output_type": "execute_result"
    }
   ],
   "source": [
    "# Replace output Yes as '1' and No as '0'\n",
    "\n",
    "housing_cor = categorical[['housing','y']]\n",
    "\n",
    "housing_cor['housing'] = housing_cor['housing'].replace(['yes'], [1])\n",
    "housing_cor['housing'] = housing_cor['housing'].replace(['no'], [0])\n",
    "\n",
    "housing_cor.corr(method=\"pearson\")"
   ]
  },
  {
   "cell_type": "code",
   "execution_count": 51,
   "id": "000af2d5",
   "metadata": {},
   "outputs": [
    {
     "data": {
      "text/plain": [
       "yes    0.572791\n",
       "no     0.427209\n",
       "Name: housing, dtype: float64"
      ]
     },
     "execution_count": 51,
     "metadata": {},
     "output_type": "execute_result"
    }
   ],
   "source": [
    "df[\"housing\"].value_counts()/len(df)"
   ]
  },
  {
   "cell_type": "code",
   "execution_count": 52,
   "id": "ef5603d2",
   "metadata": {},
   "outputs": [
    {
     "data": {
      "image/png": "[encoded data removed]",
      "text/plain": [
       "<Figure size 432x288 with 1 Axes>"
      ]
     },
     "metadata": {},
     "output_type": "display_data"
    }
   ],
   "source": [
    "# house_category = list(categorical.housing.unique())\n",
    "# job_category\n",
    "\n",
    "\n",
    "labels = ['With housing loan', 'Without housing loan']\n",
    "\n",
    "housing = categorical[['housing','y']]\n",
    "\n",
    "with_housing_loan = housing[housing['housing'] == 'yes']\n",
    "without_housing_loan = housing[housing['housing'] == 'no']\n",
    "\n",
    "with_housing_loan_yes = with_housing_loan[with_housing_loan['y'] == 1].count()[0]\n",
    "with_housing_loan_no = with_housing_loan[with_housing_loan['y'] == 0].count()[0]\n",
    "\n",
    "without_housing_loan_yes = without_housing_loan[without_housing_loan['y'] == 1].count()[0]\n",
    "without_housing_loan_no = without_housing_loan[without_housing_loan['y'] == 0].count()[0]\n",
    "\n",
    "yes = [with_housing_loan_yes / (with_housing_loan_yes + with_housing_loan_no) * 100,\n",
    "      without_housing_loan_yes / (without_housing_loan_yes + without_housing_loan_no) *100 ]\n",
    "\n",
    "no = [with_housing_loan_no / (with_housing_loan_yes + with_housing_loan_no) * 100,\n",
    "      without_housing_loan_no / (without_housing_loan_yes + without_housing_loan_no) *100 ]\n",
    "       \n",
    "width = 0.5       # the width of the bars: can also be len(x) sequence\n",
    "\n",
    "fig, ax = plt.subplots()\n",
    "\n",
    "\n",
    "ax.bar(labels, yes, width, label='yes', color = '#00EAFF')\n",
    "ax.bar(labels, no, width, bottom=yes, label='no', color = '#B2C1C3')\n",
    "\n",
    "ax.legend(bbox_to_anchor=(1.05, 1.0), loc='upper left')\n",
    "\n",
    "plt.title('Conversion rate of buying term deposit', fontdict = {'fontsize':'14'})\n",
    "plt.show()"
   ]
  },
  {
   "cell_type": "markdown",
   "id": "db92ec84",
   "metadata": {},
   "source": [
    "<b> Observations: Customers tend to buy the term deposit when they do not have a housing loan, but the conversion difference is only around 5%. "
   ]
  },
  {
   "cell_type": "code",
   "execution_count": 53,
   "id": "36d1673a",
   "metadata": {},
   "outputs": [],
   "source": [
    "py_df = y_df[y_df['poutcome'] != 'unknown']\n",
    "pp_df = df[df['poutcome'] != 'unknown']"
   ]
  },
  {
   "cell_type": "code",
   "execution_count": 55,
   "id": "940f77ba",
   "metadata": {},
   "outputs": [
    {
     "data": {
      "image/png": "[encoded data removed]",
      "text/plain": [
       "<Figure size 288x288 with 1 Axes>"
      ]
     },
     "metadata": {},
     "output_type": "display_data"
    }
   ],
   "source": [
    "ratio = py_df.poutcome.value_counts()\n",
    "\n",
    "plt.figure(figsize = (4,4))\n",
    "\n",
    "plt.pie(ratio, autopct='%1.2f%%', \n",
    "        pctdistance = 0.6, colors = ['#00EAFF', '#9B9699', '#B2C1C3'],\n",
    "        startangle = 60, wedgeprops = {'width' : 0.65}, textprops={'fontsize': 14}, labels =  ['success','failure','other'])\n",
    "plt.title('Previous market campaign outcome', fontdict = {'fontsize':'14'})\n",
    "plt.axis('square');"
   ]
  },
  {
   "cell_type": "code",
   "execution_count": 56,
   "id": "6e464390",
   "metadata": {},
   "outputs": [
    {
     "data": {
      "text/plain": [
       "unknown    29078\n",
       "failure     3509\n",
       "other       1255\n",
       "success      750\n",
       "Name: poutcome, dtype: int64"
      ]
     },
     "execution_count": 56,
     "metadata": {},
     "output_type": "execute_result"
    }
   ],
   "source": [
    "df.poutcome.value_counts()"
   ]
  },
  {
   "cell_type": "markdown",
   "id": "a75fdbff",
   "metadata": {},
   "source": [
    "<b> 64% customers who bought product from previous marketing campaign will repeat their purchase again in the next market campaign, 17% more likely than in general."
   ]
  },
  {
   "cell_type": "markdown",
   "id": "d754a37a",
   "metadata": {},
   "source": [
    "#### 3.2.5 Conversion rate of 'Which month the call is conducted'"
   ]
  },
  {
   "cell_type": "code",
   "execution_count": 57,
   "id": "52d00afb",
   "metadata": {},
   "outputs": [
    {
     "data": {
      "text/plain": [
       "array([  960,  1702,   147,  1820, 10189,  3850,  5014,  4252,   125,\n",
       "         196,  2842,    51])"
      ]
     },
     "execution_count": 57,
     "metadata": {},
     "output_type": "execute_result"
    }
   ],
   "source": [
    "month = numeric[['month','y']]\n",
    "\n",
    "total_call = month.groupby('month').count()\n",
    "total_call = total_call['y'].values\n",
    "\n",
    "total_yes = month[month['y'] == 1]\n",
    "total_yes = total_yes.groupby('month').count()\n",
    "total_yes = total_yes['y'].values\n",
    "\n",
    "total_no = month[month['y'] == 0]\n",
    "total_no = total_no.groupby('month').count()\n",
    "total_no = total_no['y'].values\n",
    "\n",
    "total_no"
   ]
  },
  {
   "cell_type": "code",
   "execution_count": 58,
   "id": "0e2bd908",
   "metadata": {
    "scrolled": false
   },
   "outputs": [
    {
     "data": {
      "text/plain": [
       "<matplotlib.legend.Legend at 0x7fcfa38522b0>"
      ]
     },
     "execution_count": 58,
     "metadata": {},
     "output_type": "execute_result"
    },
    {
     "data": {
      "image/png": "[encoded data removed]",
      "text/plain": [
       "<Figure size 432x288 with 1 Axes>"
      ]
     },
     "metadata": {},
     "output_type": "display_data"
    }
   ],
   "source": [
    "month_date = ['jan', 'feb', 'mar', 'apr', 'may', 'jun','jul', 'aug', 'sep', 'oct', 'nov', 'dec']\n",
    "# ay = total_call\n",
    "# by = total_yes\n",
    "# cy = total_no\n",
    "# y = np.vstack([ay, by, cy])\n",
    "\n",
    "\n",
    "# Create a df with a date-time index with data every hour\n",
    "\n",
    "month_stats = ({'Month': month_date,\n",
    "                'Total Yes': total_yes,\n",
    "                'Total No': total_no})\n",
    "                #'Total calls': total_yes + total_no})\n",
    "\n",
    "month_stats = pd.DataFrame(data = month_stats)\n",
    "\n",
    "# month_stats.plot.area(color=('#00EAFF', '#B2C1C3', '#ECF0F1'))\n",
    "# plt.show()\n",
    "\n",
    "# Plotting the Data\n",
    "\n",
    "x1 = month_date\n",
    "y1 = total_yes\n",
    "y2 = total_no\n",
    "y3 = total_call\n",
    "\n",
    "\n",
    "plt.plot(x1, y3, label='Total # of calls', color = '#B6E9B6')\n",
    "plt.fill_between(x1, y3, color = '#B6E9B6', alpha = 0.6) \n",
    "\n",
    "plt.plot(x1, y2, label='No', color = '#B2C1C3')\n",
    "plt.fill_between(x1, y2, color = '#B2C1C3', alpha = 0.8)\n",
    "\n",
    "plt.plot(x1, y1, label='Yes', color = '#00EAFF')\n",
    "plt.fill_between(x1, y1, color = '#00EAFF')\n",
    "\n",
    "  \n",
    "plt.xlabel('Months')\n",
    "plt.ylabel('Total count')\n",
    "plt.title(\"Months of marketing campaign call activity\")\n",
    "  \n",
    "plt.legend()"
   ]
  },
  {
   "cell_type": "code",
   "execution_count": 59,
   "id": "cd051107",
   "metadata": {},
   "outputs": [],
   "source": [
    "jan = month[month['month'] == 1]\n",
    "jan_yes = jan[jan['y'] == 1].count()[0]\n",
    "jan_no = jan[jan['y'] == 0].count()[0]\n",
    "\n",
    "feb = month[month['month'] == 2]\n",
    "feb_yes = feb[feb['y'] == 1].count()[0]\n",
    "feb_no = feb[feb['y'] == 0].count()[0]\n",
    "\n",
    "mar = month[month['month'] == 3]\n",
    "mar_yes = mar[mar['y'] == 1].count()[0]\n",
    "mar_no = mar[mar['y'] == 0].count()[0]\n",
    "\n",
    "apr = month[month['month'] == 4]\n",
    "apr_yes = apr[apr['y'] == 1].count()[0]\n",
    "apr_no = apr[apr['y'] == 0].count()[0]\n",
    "\n",
    "may = month[month['month'] == 5]\n",
    "may_yes = may[may['y'] == 1].count()[0]\n",
    "may_no = may[may['y'] == 0].count()[0]\n",
    "\n",
    "jun = month[month['month'] == 6]\n",
    "jun_yes = jun[jun['y'] == 1].count()[0]\n",
    "jun_no = jun[jun['y'] == 0].count()[0]\n",
    "\n",
    "jul = month[month['month'] == 7]\n",
    "jul_yes = jul[jul['y'] == 1].count()[0]\n",
    "jul_no = jul[jul['y'] == 0].count()[0]\n",
    "\n",
    "aug = month[month['month'] == 8]\n",
    "aug_yes = aug[aug['y'] == 1].count()[0]\n",
    "aug_no = aug[aug['y'] == 0].count()[0]\n",
    "\n",
    "sep = month[month['month'] == 9]\n",
    "sep_yes = sep[sep['y'] == 1].count()[0]\n",
    "sep_no = sep[sep['y'] == 0].count()[0]\n",
    "\n",
    "oct = month[month['month'] == 10]\n",
    "oct_yes = oct[oct['y'] == 1].count()[0]\n",
    "oct_no = oct[oct['y'] == 0].count()[0]\n",
    "\n",
    "nov = month[month['month'] == 11]\n",
    "nov_yes = nov[nov['y'] == 1].count()[0]\n",
    "nov_no = nov[nov['y'] == 0].count()[0]\n",
    "\n",
    "dec = month[month['month'] == 12]\n",
    "dec_yes = dec[dec['y'] == 1].count()[0]\n",
    "dec_no = dec[dec['y'] == 0].count()[0]"
   ]
  },
  {
   "cell_type": "code",
   "execution_count": 60,
   "id": "77aa71cc",
   "metadata": {},
   "outputs": [
    {
     "data": {
      "image/png": "[encoded data removed]",
      "text/plain": [
       "<Figure size 432x288 with 1 Axes>"
      ]
     },
     "metadata": {},
     "output_type": "display_data"
    }
   ],
   "source": [
    "# house_category = list(categorical.housing.unique())\n",
    "# job_category\n",
    "\n",
    "labels = ['jan', 'feb', 'mar', 'apr', 'may', 'jun','jul', 'aug', 'sep', 'oct', 'nov', 'dec']\n",
    "\n",
    "yes = [jan_yes / (jan_yes + jan_no) * 100,\n",
    "      feb_yes / (feb_yes + feb_no) * 100,\n",
    "      mar_yes / (mar_yes + mar_no) * 100,\n",
    "      apr_yes / (apr_yes + apr_no) * 100,\n",
    "      may_yes / (may_yes + may_no) * 100,\n",
    "      jun_yes / (jun_yes + jun_no) * 100,\n",
    "      jul_yes / (jul_yes + jul_no) * 100,\n",
    "      aug_yes / (aug_yes + aug_no) * 100,\n",
    "      sep_yes / (sep_yes + sep_no) * 100,\n",
    "      oct_yes / (oct_yes + oct_no) * 100,\n",
    "      nov_yes / (nov_yes + nov_no) * 100,\n",
    "      dec_yes / (dec_yes + dec_no) * 100]\n",
    "\n",
    "no = [jan_no / (jan_yes + jan_no) * 100,\n",
    "      feb_no / (feb_yes + feb_no) * 100,\n",
    "      mar_no / (mar_yes + mar_no) * 100,\n",
    "      apr_no / (apr_yes + apr_no) * 100,\n",
    "      may_no / (may_yes + may_no) * 100,\n",
    "      jun_no / (jun_yes + jun_no) * 100,\n",
    "      jul_no / (jul_yes + jul_no) * 100,\n",
    "      aug_no / (aug_yes + aug_no) * 100,\n",
    "      sep_no / (sep_yes + sep_no) * 100,\n",
    "      oct_no / (oct_yes + oct_no) * 100,\n",
    "      nov_no / (nov_yes + nov_no) * 100,\n",
    "      dec_no / (dec_yes + dec_no) * 100]\n",
    "       \n",
    "width = 0.5       # the width of the bars: can also be len(x) sequence\n",
    "\n",
    "fig, ax = plt.subplots()\n",
    "\n",
    "ax.bar(labels, yes, width, label='yes', color = '#00EAFF')\n",
    "ax.bar(labels, no, width, bottom=yes, label='no', color = '#B2C1C3')\n",
    "\n",
    "ax.legend(bbox_to_anchor=(1.05, 1.0), loc='upper left')\n",
    "plt.title('Conversion rate of buying term deposit in different months', fontdict = {'fontsize':'14'})\n",
    "\n",
    "plt.show()\n",
    "\n"
   ]
  },
  {
   "attachments": {},
   "cell_type": "markdown",
   "id": "f6ea1c8a",
   "metadata": {},
   "source": [
    "<b> Observations: The month of highest level of campaign calls was the May. However, the conversion rate of this month is below 10%. The most effective months (ie. highest conversion rate) are March, September, October and December with conversion rate of approxiately 50%. \n",
    "    \n",
    "Most calls were conducted in May. However, the conversion rate of this month is below 10%. \n",
    "\n",
    "The most effective months (ie. highest conversion rate) are March, September, October and December with conversion rate of 50%. \n"
   ]
  },
  {
   "cell_type": "markdown",
   "id": "d351fed6",
   "metadata": {},
   "source": [
    "### 4. Classification model"
   ]
  },
  {
   "cell_type": "markdown",
   "id": "8273b377",
   "metadata": {},
   "source": [
    "#### 4.1 Train and test data split"
   ]
  },
  {
   "cell_type": "markdown",
   "id": "ab93fb6a",
   "metadata": {},
   "source": [
    "Before we can split the data, we need to convert categorical values into numeric values\n",
    "\n",
    "One Hot Encoder:"
   ]
  },
  {
   "cell_type": "code",
   "execution_count": 62,
   "id": "bd3cd458",
   "metadata": {},
   "outputs": [],
   "source": [
    "temp_data = df.drop(['job', 'marital', 'education', 'default', 'housing', 'loan', 'contact','poutcome'] , axis=1)\n",
    "\n",
    "job = pd.get_dummies(df.job, prefix = 'job')\n",
    "marital = pd.get_dummies(df.marital, prefix = 'marital')\n",
    "education = pd.get_dummies(df.education, prefix = 'education')\n",
    "default = pd.get_dummies(df.default, prefix = 'default')\n",
    "housing = pd.get_dummies(df.housing, prefix = 'housing')\n",
    "loan = pd.get_dummies(df.loan, prefix = 'loan')\n",
    "contact = pd.get_dummies(df.contact, prefix = 'contact')\n",
    "poutcome = pd.get_dummies(df.poutcome, prefix = 'poutcome')\n",
    "\n",
    "df2 = pd.concat([temp_data, job, marital, education, default, housing, loan, contact, poutcome] , axis=1)"
   ]
  },
  {
   "cell_type": "code",
   "execution_count": 63,
   "id": "96f1c415",
   "metadata": {},
   "outputs": [
    {
     "name": "stdout",
     "output_type": "stream",
     "text": [
      "<class 'pandas.core.frame.DataFrame'>\n",
      "Int64Index: 34592 entries, 0 to 39963\n",
      "Data columns (total 41 columns):\n",
      " #   Column               Non-Null Count  Dtype\n",
      "---  ------               --------------  -----\n",
      " 0   age                  34592 non-null  int64\n",
      " 1   balance              34592 non-null  int64\n",
      " 2   day                  34592 non-null  int64\n",
      " 3   month                34592 non-null  int64\n",
      " 4   duration             34592 non-null  int64\n",
      " 5   campaign             34592 non-null  int64\n",
      " 6   pdays                34592 non-null  int64\n",
      " 7   previous             34592 non-null  int64\n",
      " 8   y                    34592 non-null  int64\n",
      " 9   job_admin.           34592 non-null  uint8\n",
      " 10  job_blue-collar      34592 non-null  uint8\n",
      " 11  job_entrepreneur     34592 non-null  uint8\n",
      " 12  job_housemaid        34592 non-null  uint8\n",
      " 13  job_management       34592 non-null  uint8\n",
      " 14  job_retired          34592 non-null  uint8\n",
      " 15  job_self-employed    34592 non-null  uint8\n",
      " 16  job_services         34592 non-null  uint8\n",
      " 17  job_student          34592 non-null  uint8\n",
      " 18  job_technician       34592 non-null  uint8\n",
      " 19  job_unemployed       34592 non-null  uint8\n",
      " 20  job_unknown          34592 non-null  uint8\n",
      " 21  marital_divorced     34592 non-null  uint8\n",
      " 22  marital_married      34592 non-null  uint8\n",
      " 23  marital_single       34592 non-null  uint8\n",
      " 24  education_primary    34592 non-null  uint8\n",
      " 25  education_secondary  34592 non-null  uint8\n",
      " 26  education_tertiary   34592 non-null  uint8\n",
      " 27  education_unknown    34592 non-null  uint8\n",
      " 28  default_no           34592 non-null  uint8\n",
      " 29  default_yes          34592 non-null  uint8\n",
      " 30  housing_no           34592 non-null  uint8\n",
      " 31  housing_yes          34592 non-null  uint8\n",
      " 32  loan_no              34592 non-null  uint8\n",
      " 33  loan_yes             34592 non-null  uint8\n",
      " 34  contact_cellular     34592 non-null  uint8\n",
      " 35  contact_telephone    34592 non-null  uint8\n",
      " 36  contact_unknown      34592 non-null  uint8\n",
      " 37  poutcome_failure     34592 non-null  uint8\n",
      " 38  poutcome_other       34592 non-null  uint8\n",
      " 39  poutcome_success     34592 non-null  uint8\n",
      " 40  poutcome_unknown     34592 non-null  uint8\n",
      "dtypes: int64(9), uint8(32)\n",
      "memory usage: 3.7 MB\n"
     ]
    }
   ],
   "source": [
    "df2.info()"
   ]
  },
  {
   "cell_type": "code",
   "execution_count": 64,
   "id": "f862d78e",
   "metadata": {},
   "outputs": [
    {
     "data": {
      "text/html": [
       "<div>\n",
       "<style scoped>\n",
       "    .dataframe tbody tr th:only-of-type {\n",
       "        vertical-align: middle;\n",
       "    }\n",
       "\n",
       "    .dataframe tbody tr th {\n",
       "        vertical-align: top;\n",
       "    }\n",
       "\n",
       "    .dataframe thead th {\n",
       "        text-align: right;\n",
       "    }\n",
       "</style>\n",
       "<table border=\"1\" class=\"dataframe\">\n",
       "  <thead>\n",
       "    <tr style=\"text-align: right;\">\n",
       "      <th></th>\n",
       "      <th>loan</th>\n",
       "      <th>y</th>\n",
       "    </tr>\n",
       "  </thead>\n",
       "  <tbody>\n",
       "    <tr>\n",
       "      <th>loan</th>\n",
       "      <td>1.000000</td>\n",
       "      <td>-0.055013</td>\n",
       "    </tr>\n",
       "    <tr>\n",
       "      <th>y</th>\n",
       "      <td>-0.055013</td>\n",
       "      <td>1.000000</td>\n",
       "    </tr>\n",
       "  </tbody>\n",
       "</table>\n",
       "</div>"
      ],
      "text/plain": [
       "          loan         y\n",
       "loan  1.000000 -0.055013\n",
       "y    -0.055013  1.000000"
      ]
     },
     "execution_count": 64,
     "metadata": {},
     "output_type": "execute_result"
    }
   ],
   "source": [
    "# Replace output Yes as '1' and No as '0'\n",
    "\n",
    "loan_cor = categorical[['loan','y']]\n",
    "\n",
    "loan_cor['loan'] = loan_cor['loan'].replace(['yes'], [1])\n",
    "loan_cor['loan'] = loan_cor['loan'].replace(['no'], [0])\n",
    "\n",
    "loan_cor.corr(method=\"pearson\")"
   ]
  },
  {
   "cell_type": "code",
   "execution_count": 65,
   "id": "4b320bc3",
   "metadata": {},
   "outputs": [
    {
     "data": {
      "text/plain": [
       "no     0.835945\n",
       "yes    0.164055\n",
       "Name: loan, dtype: float64"
      ]
     },
     "execution_count": 65,
     "metadata": {},
     "output_type": "execute_result"
    }
   ],
   "source": [
    "df[\"loan\"].value_counts()/len(df)"
   ]
  },
  {
   "cell_type": "code",
   "execution_count": 66,
   "id": "6fc6d379",
   "metadata": {},
   "outputs": [
    {
     "data": {
      "text/html": [
       "<div>\n",
       "<style scoped>\n",
       "    .dataframe tbody tr th:only-of-type {\n",
       "        vertical-align: middle;\n",
       "    }\n",
       "\n",
       "    .dataframe tbody tr th {\n",
       "        vertical-align: top;\n",
       "    }\n",
       "\n",
       "    .dataframe thead th {\n",
       "        text-align: right;\n",
       "    }\n",
       "</style>\n",
       "<table border=\"1\" class=\"dataframe\">\n",
       "  <thead>\n",
       "    <tr style=\"text-align: right;\">\n",
       "      <th></th>\n",
       "      <th>default</th>\n",
       "      <th>y</th>\n",
       "    </tr>\n",
       "  </thead>\n",
       "  <tbody>\n",
       "    <tr>\n",
       "      <th>default</th>\n",
       "      <td>1.00000</td>\n",
       "      <td>-0.01621</td>\n",
       "    </tr>\n",
       "    <tr>\n",
       "      <th>y</th>\n",
       "      <td>-0.01621</td>\n",
       "      <td>1.00000</td>\n",
       "    </tr>\n",
       "  </tbody>\n",
       "</table>\n",
       "</div>"
      ],
      "text/plain": [
       "         default        y\n",
       "default  1.00000 -0.01621\n",
       "y       -0.01621  1.00000"
      ]
     },
     "execution_count": 66,
     "metadata": {},
     "output_type": "execute_result"
    }
   ],
   "source": [
    "# Replace output Yes as '1' and No as '0'\n",
    "\n",
    "default_cor = categorical[['default','y']]\n",
    "\n",
    "default_cor['default'] = default_cor['default'].replace(['yes'], [1])\n",
    "default_cor['default'] = default_cor['default'].replace(['no'], [0])\n",
    "\n",
    "default_cor.corr(method=\"pearson\")"
   ]
  },
  {
   "cell_type": "code",
   "execution_count": 67,
   "id": "b80ae900",
   "metadata": {},
   "outputs": [
    {
     "data": {
      "text/plain": [
       "no     0.981181\n",
       "yes    0.018819\n",
       "Name: default, dtype: float64"
      ]
     },
     "execution_count": 67,
     "metadata": {},
     "output_type": "execute_result"
    }
   ],
   "source": [
    "df[\"default\"].value_counts()/len(df)"
   ]
  },
  {
   "cell_type": "markdown",
   "id": "d4ea3659",
   "metadata": {},
   "source": [
    "#### 4.1 Splitting Target Variable and Predictors"
   ]
  },
  {
   "cell_type": "code",
   "execution_count": 68,
   "id": "a850fc22",
   "metadata": {},
   "outputs": [],
   "source": [
    "X = df2.drop(['y'],axis=1)\n",
    "y = df2.y"
   ]
  },
  {
   "cell_type": "code",
   "execution_count": 69,
   "id": "87de24da",
   "metadata": {},
   "outputs": [],
   "source": [
    "# A holdout test set with 20% of the data is kept for final testing\n",
    "\n",
    "X_train, X_test, y_train, y_test = train_test_split(X, y, test_size=0.2, random_state=42)"
   ]
  },
  {
   "cell_type": "markdown",
   "id": "2f573eb3",
   "metadata": {},
   "source": [
    "### 4.2 Modeling - Initalizing Models and Parameter Grids\n",
    "\n",
    "To account for Class Imbalance - we will use class_weight = 'balanced' wherever it is applicable.\n",
    "\n",
    "The purpose of the pipeline is to assemble several steps that can be cross-validated together while setting different parameters."
   ]
  },
  {
   "cell_type": "markdown",
   "id": "41c1857d",
   "metadata": {},
   "source": [
    "#### 4.2.1 Decision Tree\n",
    "\n",
    "We don't need to Normalize data for Decision Trees because of the nature of the algorithm"
   ]
  },
  {
   "cell_type": "code",
   "execution_count": 70,
   "id": "325ac749",
   "metadata": {},
   "outputs": [],
   "source": [
    "from sklearn.tree import DecisionTreeClassifier\n",
    "clf_dt = DecisionTreeClassifier(criterion='gini') #criterion = entopy, gini\n",
    "clf_dt.fit(X_train, np.ravel(y_train,order='C'))\n",
    "dtreepred = clf_dt.predict(X_test)"
   ]
  },
  {
   "cell_type": "markdown",
   "id": "13001d59",
   "metadata": {},
   "source": [
    "#### 4.2.2 K Nearest Neighbors (KNN)"
   ]
  },
  {
   "cell_type": "code",
   "execution_count": 71,
   "id": "569ce6db",
   "metadata": {},
   "outputs": [],
   "source": [
    "from sklearn.ensemble import RandomForestClassifier\n",
    "knn_clf = RandomForestClassifier(n_estimators = 200)#criterion = entopy,gini\n",
    "knn_clf.fit(X_train, np.ravel(y_train,order='C'))\n",
    "rfcpred = knn_clf.predict(X_test)"
   ]
  },
  {
   "cell_type": "markdown",
   "id": "15261f78",
   "metadata": {},
   "source": [
    "#### 4.2.3 Logistic Regression"
   ]
  },
  {
   "cell_type": "code",
   "execution_count": 72,
   "id": "0bda3fd0",
   "metadata": {},
   "outputs": [],
   "source": [
    "from sklearn.linear_model import LogisticRegression\n",
    "lr_clf =LogisticRegression()\n",
    "lr_clf.fit(X_train,np.ravel(y_train,order='C'))\n",
    "y_pred=lr_clf.predict(X_test)"
   ]
  },
  {
   "cell_type": "markdown",
   "id": "e5742ef3",
   "metadata": {},
   "source": [
    "#### 4.2.4 SVC"
   ]
  },
  {
   "cell_type": "code",
   "execution_count": 73,
   "id": "38247755",
   "metadata": {},
   "outputs": [],
   "source": [
    "from sklearn.svm import SVC\n",
    "svc_clf= SVC(kernel = 'sigmoid')\n",
    "svc_clf.fit(X_train, np.ravel(y_train,order='C'))\n",
    "svcpred = svc_clf.predict(X_test)"
   ]
  },
  {
   "cell_type": "markdown",
   "id": "6a321b2b",
   "metadata": {},
   "source": [
    "#### 4.2.5 XGBoost\n",
    "\n",
    "Since XGBoost is a tree based model, we don't need need to Normalize the data"
   ]
  },
  {
   "cell_type": "code",
   "execution_count": 74,
   "id": "2522b724",
   "metadata": {},
   "outputs": [],
   "source": [
    "from xgboost import XGBClassifier\n",
    "xgb_clf = XGBClassifier()\n",
    "xgb_clf.fit(X_train, np.ravel(y_train,order='C'))\n",
    "xgbprd = xgb_clf.predict(X_test)"
   ]
  },
  {
   "cell_type": "markdown",
   "id": "e90a8101",
   "metadata": {},
   "source": [
    "### 4.3 Nested Cross Validation\n",
    "\n",
    "We have to build the best possible model for overall Precision."
   ]
  },
  {
   "cell_type": "markdown",
   "id": "faffc3ff",
   "metadata": {},
   "source": [
    "### Model Metrics Evaulation - False Positive or False Negative"
   ]
  },
  {
   "attachments": {
    "image-2.png": {
     "image/png": "[encoded data removed]"
    }
   },
   "cell_type": "markdown",
   "id": "ee5d15d6",
   "metadata": {},
   "source": [
    "![image-2.png](attachment:image-2.png)"
   ]
  },
  {
   "attachments": {},
   "cell_type": "markdown",
   "id": "5af8f350",
   "metadata": {},
   "source": [
    "### Model Metrics - Precision or Recall?\n",
    "\n",
    "<b>Precision:</b> Means how sure is the prediction of our model that the actual label is a \"Yes\". (Correctness of model)\n",
    "\n",
    "<b>Recall:</b> Is the total number of \"Yes\" in the label column of the dataset. So how many \"Yes\" labels does our model detect.\n",
    "\n",
    "In this exercise, we care about <b>Minimizing False Positive</b>, so we choose <b>Precision</b> as the metrics."
   ]
  },
  {
   "cell_type": "code",
   "execution_count": 75,
   "id": "1b1282b1",
   "metadata": {},
   "outputs": [],
   "source": [
    "# Defining inner and outer Cross Validation Loops\n",
    "inner_cv = KFold(n_splits=5, shuffle=True, random_state=10)\n",
    "outer_cv = KFold(n_splits=5, shuffle=True, random_state=11)\n",
    "\n",
    "# Defining Scoring Criteria to optimize and select best model\n",
    "score = 'precision'\n",
    "\n",
    "# Outer Loop: Testing the performance of all 5 models\n",
    "dt_scores = cross_val_score(clf_dt, X = X_train, y = y_train, scoring = score, cv = outer_cv)\n",
    "dt_score = dt_scores.mean()\n",
    "knn_scores = cross_val_score(knn_clf, X = X_train, y = y_train, scoring = score, cv = outer_cv)\n",
    "knn_score = knn_scores.mean()\n",
    "lr_scores = cross_val_score(lr_clf, X = X_train, y = y_train, scoring = score, cv = outer_cv)\n",
    "lr_score = lr_scores.mean()\n",
    "svc_scores = cross_val_score(svc_clf, X = X_train, y = y_train, scoring = score, cv = outer_cv)\n",
    "svc_score = svc_scores.mean()\n",
    "xgb_scores = cross_val_score(xgb_clf, X = X_train, y = y_train, scoring = score, cv = outer_cv)\n",
    "xgb_score = xgb_scores.mean()"
   ]
  },
  {
   "cell_type": "markdown",
   "id": "f2fedbcf",
   "metadata": {},
   "source": [
    "#### 4.3.1 Comparing Model Performance to Select Best Model"
   ]
  },
  {
   "cell_type": "code",
   "execution_count": 76,
   "id": "ff3fbf60",
   "metadata": {},
   "outputs": [
    {
     "name": "stdout",
     "output_type": "stream",
     "text": [
      "Mean Precision of Decision Tree: 0.44555833977668735\n",
      "Standard Deviation for Decision Tree 0.0149\n",
      "\n",
      "Mean Precision of KNN: 0.6366755180767842\n",
      "Standard Deviation for KNN 0.0183\n",
      "\n",
      "Mean Precision of Logistic Regression: 0.5722431516635644\n",
      "Standard Deviation for Logistic Regression 0.0513\n",
      "\n",
      "Mean Precision of SVC: 0.237026081295929\n",
      "Standard Deviation for SVC 0.016\n",
      "\n",
      "Mean Precision of XGBoost: 0.6333992567809291\n",
      "Standard Deviation for XGBoost 0.0249\n",
      "\n"
     ]
    }
   ],
   "source": [
    "print('Mean Precision of Decision Tree:', dt_score)\n",
    "print('Standard Deviation for Decision Tree', round(np.std(dt_scores),4))\n",
    "print('')\n",
    "print('Mean Precision of KNN:', knn_score)\n",
    "print('Standard Deviation for KNN', round(np.std(knn_scores),4))\n",
    "print('')\n",
    "print('Mean Precision of Logistic Regression:', lr_score)\n",
    "print('Standard Deviation for Logistic Regression', round(np.std(lr_scores),4))\n",
    "print('')\n",
    "print('Mean Precision of SVC:', svc_score)\n",
    "print('Standard Deviation for SVC', round(np.std(svc_scores),4))\n",
    "print('')\n",
    "print('Mean Precision of XGBoost:', xgb_score)\n",
    "print('Standard Deviation for XGBoost', round(np.std(xgb_scores),4))\n",
    "print('')"
   ]
  },
  {
   "cell_type": "markdown",
   "id": "9c4f3546",
   "metadata": {},
   "source": [
    "Comparing Accuracy of all the Parameter Tuned models in a 5 fold Cross Validation, XGBoost shows the highest mean performance for Precision. Hence, XGBoost is chosen as the best model for this problem."
   ]
  },
  {
   "cell_type": "markdown",
   "id": "0f4492dd",
   "metadata": {},
   "source": [
    "### 4.4 Model Evaluation - XGBoost"
   ]
  },
  {
   "cell_type": "markdown",
   "id": "4aa84bf7",
   "metadata": {},
   "source": [
    "#### 4.4.1 Confusion Matrix"
   ]
  },
  {
   "cell_type": "code",
   "execution_count": 77,
   "id": "cc6737ff",
   "metadata": {},
   "outputs": [
    {
     "name": "stdout",
     "output_type": "stream",
     "text": [
      "[[6096  101]\n",
      " [ 599  123]]\n",
      "{Precision}: 0.5491071428571429\n"
     ]
    },
    {
     "data": {
      "image/png": "[encoded data removed]",
      "text/plain": [
       "<Figure size 432x288 with 2 Axes>"
      ]
     },
     "metadata": {},
     "output_type": "display_data"
    }
   ],
   "source": [
    "from sklearn.metrics import plot_confusion_matrix\n",
    "from sklearn.metrics import confusion_matrix\n",
    "from sklearn import metrics\n",
    "\n",
    "cnf_matrix = metrics.confusion_matrix(y_test, y_pred)\n",
    "\n",
    "print(cnf_matrix)\n",
    "print(\"{Precision}:\",metrics.precision_score(y_test, y_pred))\n",
    "\n",
    "y_pred = xgb_clf.predict(X_test)\n",
    "plot_confusion_matrix(xgb_clf, X_test, y_test)\n",
    "plt.show()"
   ]
  },
  {
   "attachments": {
    "image.png": {
     "image/png": "[encoded data removed]"
    }
   },
   "cell_type": "markdown",
   "id": "5b8537a7",
   "metadata": {},
   "source": [
    "![image.png](attachment:image.png)"
   ]
  },
  {
   "attachments": {},
   "cell_type": "markdown",
   "id": "43b679a9",
   "metadata": {},
   "source": [
    "<b> Analyzing the confusion matrix: </b>\n",
    "\n",
    "Looking at the confusion matrix which we got from all the models, there are two types of wrong values:\n",
    "\n",
    "False Positive: Customer did not buy the product, but model predicted as “Buy” \n",
    " \n",
    "Trade off / Consequence: The bank made a call and spent possibly 5 minutes on a customer that eventually did not buy the product\n",
    "\n",
    "False Negative: Customer intended to buy the product, but model predicted as “Not buy” \n",
    " \n",
    "Trade off / Consequence: The bank did not make the call based on the prediction outcome, eventually lost the potential revenue of purchase from the customer."
   ]
  },
  {
   "cell_type": "markdown",
   "id": "70e7601c",
   "metadata": {},
   "source": [
    "#### 4.4.2 Classification Report for best model"
   ]
  },
  {
   "cell_type": "code",
   "execution_count": 78,
   "id": "e57da2ab",
   "metadata": {},
   "outputs": [
    {
     "name": "stdout",
     "output_type": "stream",
     "text": [
      "              precision    recall  f1-score   support\n",
      "\n",
      "           0       0.94      0.97      0.95      6197\n",
      "           1       0.63      0.45      0.52       722\n",
      "\n",
      "    accuracy                           0.91      6919\n",
      "   macro avg       0.78      0.71      0.74      6919\n",
      "weighted avg       0.91      0.91      0.91      6919\n",
      "\n"
     ]
    }
   ],
   "source": [
    "print(classification_report(y_test, y_pred))"
   ]
  },
  {
   "cell_type": "markdown",
   "id": "eb2d3151",
   "metadata": {},
   "source": [
    "The number false positives and false negatives is quite similar in the confusion matrix. Most of the predictions made by the model are correct."
   ]
  },
  {
   "cell_type": "markdown",
   "id": "dd56c7df",
   "metadata": {},
   "source": [
    "#### 4.4.3 ROC Curve"
   ]
  },
  {
   "cell_type": "code",
   "execution_count": 79,
   "id": "954d7bb1",
   "metadata": {},
   "outputs": [],
   "source": [
    "# Predicted Probabilities\n",
    "y_probs = xgb_clf.predict_proba(X_test)[:,1]\n",
    "\n",
    "# Finding stats for ROC Curve\n",
    "from sklearn.metrics import roc_curve, roc_auc_score\n",
    "fpr, tpr, threshold = roc_curve(y_test, y_probs)"
   ]
  },
  {
   "cell_type": "code",
   "execution_count": 80,
   "id": "8af28d3a",
   "metadata": {},
   "outputs": [
    {
     "data": {
      "image/png": "[encoded data removed]",
      "text/plain": [
       "<Figure size 432x432 with 1 Axes>"
      ]
     },
     "metadata": {},
     "output_type": "display_data"
    }
   ],
   "source": [
    "# ROC Curve\n",
    "\n",
    "plt.figure(figsize=(6,6))\n",
    "plt.title('Receiver Operating Characteristic - XGBoost')\n",
    "plt.plot(fpr, tpr)\n",
    "plt.plot([0, 1], ls=\"--\")\n",
    "plt.plot([0, 0], [1, 0] , c=\".7\"), plt.plot([1, 1] , c=\".7\")\n",
    "plt.ylabel('True Positive Rate')\n",
    "plt.xlabel('False Positive Rate')\n",
    "plt.show()"
   ]
  },
  {
   "cell_type": "markdown",
   "id": "fb558190",
   "metadata": {},
   "source": [
    "The ROC curve of the XGBoost Model is close to a perfect classifier. It performs much better than a random classifier."
   ]
  },
  {
   "cell_type": "markdown",
   "id": "ee1503fc",
   "metadata": {},
   "source": [
    "#### 4.4.4 Feature Importance"
   ]
  },
  {
   "cell_type": "code",
   "execution_count": 81,
   "id": "2d7c4b98",
   "metadata": {},
   "outputs": [],
   "source": [
    "d = xgb_clf.get_booster().get_score(importance_type=\"gain\")"
   ]
  },
  {
   "cell_type": "code",
   "execution_count": 82,
   "id": "2cf26cd6",
   "metadata": {},
   "outputs": [
    {
     "data": {
      "text/plain": [
       "{'poutcome_success': 59.46043014526367,\n",
       " 'contact_unknown': 17.058496475219727,\n",
       " 'duration': 12.424847602844238,\n",
       " 'housing_no': 8.676966667175293,\n",
       " 'month': 7.73687744140625,\n",
       " 'contact_cellular': 5.52030611038208,\n",
       " 'loan_no': 5.02364444732666,\n",
       " 'pdays': 4.392873764038086,\n",
       " 'day': 4.221225261688232,\n",
       " 'job_housemaid': 3.847476005554199,\n",
       " 'poutcome_other': 3.8219540119171143,\n",
       " 'job_student': 3.373944044113159,\n",
       " 'job_self-employed': 3.179107666015625,\n",
       " 'age': 3.0303404331207275,\n",
       " 'job_retired': 3.012964963912964,\n",
       " 'job_services': 2.9178264141082764,\n",
       " 'job_management': 2.899876832962036,\n",
       " 'job_blue-collar': 2.8936562538146973,\n",
       " 'poutcome_failure': 2.8282172679901123,\n",
       " 'education_unknown': 2.8215599060058594,\n",
       " 'default_no': 2.7296392917633057,\n",
       " 'marital_married': 2.7233755588531494,\n",
       " 'education_tertiary': 2.6921591758728027,\n",
       " 'job_admin.': 2.6841073036193848,\n",
       " 'contact_telephone': 2.658267021179199,\n",
       " 'job_entrepreneur': 2.6250154972076416,\n",
       " 'job_technician': 2.555028200149536,\n",
       " 'campaign': 2.4801433086395264,\n",
       " 'balance': 2.462921142578125,\n",
       " 'job_unemployed': 2.4532673358917236,\n",
       " 'education_primary': 2.38887357711792,\n",
       " 'job_unknown': 2.3882579803466797,\n",
       " 'marital_single': 2.2847464084625244,\n",
       " 'marital_divorced': 2.2691988945007324,\n",
       " 'previous': 2.2570271492004395,\n",
       " 'education_secondary': 1.9113309383392334}"
      ]
     },
     "execution_count": 82,
     "metadata": {},
     "output_type": "execute_result"
    }
   ],
   "source": [
    "#Sorting the features in order\n",
    "{k: v for k, v in sorted(d.items(), key=lambda x: x[1], reverse=True)}"
   ]
  },
  {
   "cell_type": "markdown",
   "id": "7b82942c",
   "metadata": {},
   "source": [
    "# 5. Recommendations\n",
    "\n",
    "### 5.1 Recommendation for Marketing Campaigns"
   ]
  },
  {
   "cell_type": "markdown",
   "id": "e6b4a50d",
   "metadata": {},
   "source": [
    "\n",
    "<b>1. Best month to call:</b><br>\n",
    "The month of highest level of campaign calls was the May. However, the conversion rate of this month is below 10%. The most effective months (ie. highest conversion rate) are March, September, October and December with conversion rate of approxiately 50%. For the next marketing campaign, we recommended the bank to focus the marketing campaign during the months of March, September, October and December to increase the conversion rate of a phone call.<br>\n",
    "\n",
    "\n",
    "<b>2. Target groups: </b><br>\n",
    "\n",
    "<b>Age: </b> 96% of clients fall in age range of 20-60, the converstion rate is best for the age group 'Above 60' with 30% conversion, 'Below 30' seconds with a 18% conversion. The next marketing campaign should target potential clients in their 30s and above 60. If the next campaign the bank addressed these two categories it would increase the likelihood of more term deposits suscriptions.<br><br>\n",
    "\n",
    "<b> Job: </b> In overall data, students and retirees are much more likely to open term deposit. 45% of clients above 60 years of age agreed to open term deposit. But we have only 2.5% of customers in this age group. It is recommended to include more of students, retirees and customers older than 60 years old to get a more targeted exposure from direct call marketing. Retired people are more likely to put their cash in the bank as time deposit to gain interests. The next marketing campaign should focus more on these two categories of customers.<br><br>\n",
    "\n",
    "<b>Housing Loan:</b> Customers tend to buy the term deposit when they do not have a housing loan, but the conversion difference is only around 5%, with that said, potential customers has a house loan might not have idle cash for a term deposit account. For the next campaign, the bank can target more people without a housing loan.  <br><br>\n",
    "\n",
    "<b>Account Balance: </b><br> Even though The variations in conversion rate per account balance is not quite apparent, most of the balance groups have a 15-18% conversion rate, however, we see that potential clients in the average and account balances are more likely to open a term deposit. It is recommended that the marketing calls can focus on customers with a higher account balance. <br><br>\n",
    "\n",
    "<b>3. Call Duration: </b><br>\n",
    "\n",
    "We can see the call duration of '15-30 mins' and 'Above 30 mins' are the most effective - with more than half of the customers would end up buy a term deposit. The bank should train the marketing people on effectively closing deals when the call duration is more than 15 minutes, which would allow that the conversion rate of the next marketing campaign to be highly successful.<br>"
   ]
  }
 ],
 "metadata": {
  "kernelspec": {
   "display_name": "Python [conda env:anaconda3] *",
   "language": "python",
   "name": "conda-env-anaconda3-py"
  },
  "language_info": {
   "codemirror_mode": {
    "name": "ipython",
    "version": 3
   },
   "file_extension": ".py",
   "mimetype": "text/x-python",
   "name": "python",
   "nbconvert_exporter": "python",
   "pygments_lexer": "ipython3",
   "version": "3.9.7"
  }
 },
 "nbformat": 4,
 "nbformat_minor": 5
}
